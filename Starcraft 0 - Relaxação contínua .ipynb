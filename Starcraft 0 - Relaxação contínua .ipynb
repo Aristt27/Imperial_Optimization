{
 "cells": [
  {
   "cell_type": "code",
   "execution_count": null,
   "metadata": {},
   "outputs": [],
   "source": [
    "import numpy as np\n",
    "import cvxpy as cvx\n",
    "import matplotlib.pyplot as plt"
   ]
  },
  {
   "cell_type": "markdown",
   "metadata": {},
   "source": [
    "### Ao invés de contruirmos um trabalhador inteiro a cada N segundos(leia-se turnos), estaremos contínuamente construindo uma quantidade de trabalhador ϵ, capaz de ϵ-minerar e ϵ-construir.\n",
    "### As ϵ-construções são capazes de ϵ-treinar ϵ-unidades."
   ]
  },
  {
   "cell_type": "markdown",
   "metadata": {},
   "source": [
    "### Dessa forma, em cada turno, só precisamos gerir os Recursos, Unidades e Estruturas como se fossem grandezas contínuas"
   ]
  },
  {
   "cell_type": "markdown",
   "metadata": {},
   "source": [
    "## $F_{obj}$ = max |Exército|"
   ]
  },
  {
   "cell_type": "code",
   "execution_count": null,
   "metadata": {},
   "outputs": [],
   "source": [
    "Structures = cvx.Variable(1)\n",
    "Builders   = cvx.Variable(1)\n",
    "Gatherers  = cvx.Variable(1)\n",
    "Army       = cvx.Variable(1)\n",
    "Resources  = cvx.Variable(1)"
   ]
  },
  {
   "cell_type": "code",
   "execution_count": null,
   "metadata": {},
   "outputs": [],
   "source": [
    "F_obj = cvx.Maximize(Army)"
   ]
  },
  {
   "cell_type": "markdown",
   "metadata": {},
   "source": [
    "## Restrito a: Tempo, Supply, Dinheiro"
   ]
  },
  {
   "cell_type": "code",
   "execution_count": null,
   "metadata": {},
   "outputs": [],
   "source": [
    "a_s = 2 # produão de exercito por estrutura\n",
    "w_s = 5 # produção de builder por estrutura\n",
    "\n",
    "c_a = 5 # custo do exercito\n",
    "c_w = 2 # custo dos builders\n",
    "c_g = 2 # custo dos gatherers\n",
    "\n",
    "s_r = -9 # recursos por estruras"
   ]
  },
  {
   "cell_type": "code",
   "execution_count": null,
   "metadata": {},
   "outputs": [],
   "source": [
    "p_r = 3  # produção de recursos por gatherer\n",
    "b_c = -10 # gasto dos builders"
   ]
  },
  {
   "cell_type": "code",
   "execution_count": null,
   "metadata": {},
   "outputs": [],
   "source": [
    "s_b = 1 # produção de estrutura por builder"
   ]
  },
  {
   "cell_type": "code",
   "execution_count": null,
   "metadata": {},
   "outputs": [],
   "source": [
    "t_lim = 20\n",
    "t = t_lim"
   ]
  },
  {
   "cell_type": "code",
   "execution_count": null,
   "metadata": {},
   "outputs": [],
   "source": [
    "def f(t, R, S):\n",
    "    return S*a_s - c_a*R\n",
    "\n",
    "def g(t, G, B, S):\n",
    "    return t*(p_r*G + s_r*S + b_c*B)\n",
    "\n",
    "def h(t, S, R):\n",
    "    return t*(w_s*S - c_w*R)\n",
    "\n",
    "def i(t, S, R):\n",
    "    return h(t, S, R)\n",
    "\n",
    "def j(t, B, R):\n",
    "    return t*(s_b*B - R*s_r)"
   ]
  },
  {
   "cell_type": "code",
   "execution_count": null,
   "metadata": {},
   "outputs": [],
   "source": [
    "constraints = [Army == f(t, Resources, Structures), \n",
    "               Resources == g(t, Gatherers, Builders, Structures), \n",
    "               Gatherers == h(t, Structures, Resources),\n",
    "               Builders  == i(t, Structures, Resources),\n",
    "               Structures == j(t, Builders, Resources),\n",
    "              ]"
   ]
  },
  {
   "cell_type": "markdown",
   "metadata": {},
   "source": [
    "# $State = [Recursos, Estruturas, Unidades]^T$"
   ]
  },
  {
   "cell_type": "markdown",
   "metadata": {},
   "source": [
    "### State[i] = [Recursos_i, Estruturas_i, Unidades_i]"
   ]
  },
  {
   "cell_type": "markdown",
   "metadata": {},
   "source": [
    "# Problema iterativo"
   ]
  },
  {
   "cell_type": "markdown",
   "metadata": {},
   "source": [
    "S - Estruturas  \n",
    "R - Recursos  \n",
    "U - Unidades  "
   ]
  },
  {
   "cell_type": "markdown",
   "metadata": {},
   "source": [
    "$U = U_1 + U_2 + U_3$"
   ]
  },
  {
   "cell_type": "code",
   "execution_count": null,
   "metadata": {},
   "outputs": [],
   "source": [
    "Max_supply = cvx.Variable(1)\n",
    "Supply     = cvx.Variable(1)"
   ]
  },
  {
   "cell_type": "markdown",
   "metadata": {},
   "source": [
    "### As equações:\n",
    "\n",
    "$ \\partial U_2 = C \\partial R $, $\\partial U_1 = D \\partial S $, $ \\partial R = E \\partial S$  \n",
    "$ \\partial S = F \\partial A$"
   ]
  },
  {
   "cell_type": "markdown",
   "metadata": {},
   "source": [
    "###### Decomposição das variáveis:\n",
    "\n",
    "$U = U_1 + U_2$  # bulding e gthering  \n",
    "$S = S_1 + S_2$  # army trainer e worker trainer  \n",
    "$R = R_1 + R_2$  # dinheiros  "
   ]
  },
  {
   "cell_type": "code",
   "execution_count": null,
   "metadata": {},
   "outputs": [],
   "source": [
    "cvx.constraints = [Max_supply >= Supply, Supply == sum(Workers) + Army, Resources >= 0, Workers >= 0, Army >= 0, Structures >= 1, ]"
   ]
  },
  {
   "cell_type": "code",
   "execution_count": null,
   "metadata": {},
   "outputs": [],
   "source": [
    "cvx.constraints"
   ]
  },
  {
   "cell_type": "markdown",
   "metadata": {},
   "source": [
    "# Problema bazuka"
   ]
  },
  {
   "cell_type": "code",
   "execution_count": 113,
   "metadata": {},
   "outputs": [],
   "source": [
    "import cvxpy as cvx\n",
    "import numpy as np"
   ]
  },
  {
   "cell_type": "code",
   "execution_count": 123,
   "metadata": {},
   "outputs": [],
   "source": [
    "T = 3"
   ]
  },
  {
   "cell_type": "code",
   "execution_count": 124,
   "metadata": {},
   "outputs": [],
   "source": [
    "Buildings  = cvx.Variable(3)\n",
    "Gatherers  = cvx.Variable(3)\n",
    "Builders   = cvx.Variable(3)\n",
    "Army       = cvx.Variable(3)\n",
    "Resources  = cvx.Variable(3)\n",
    "Max_supply = cvx.Variable(3)"
   ]
  },
  {
   "cell_type": "code",
   "execution_count": 125,
   "metadata": {},
   "outputs": [],
   "source": [
    "c1 = 2 # buildings costs\n",
    "c2 = 1 # units costs\n",
    "k  = 3 # supply per structure\n",
    "\n",
    "o = 2 # pessoinhas por casinhas\n",
    "q = 2 # resources gathered per gatherer"
   ]
  },
  {
   "cell_type": "code",
   "execution_count": 126,
   "metadata": {},
   "outputs": [],
   "source": [
    "F_Obj = cvx.Maximize(Army[-1])"
   ]
  },
  {
   "cell_type": "code",
   "execution_count": 127,
   "metadata": {},
   "outputs": [],
   "source": [
    "B = cvx.Variable(2)\n",
    "G = cvx.Variable(2)\n",
    "Br = cvx.Variable(2)"
   ]
  },
  {
   "cell_type": "code",
   "execution_count": 128,
   "metadata": {},
   "outputs": [],
   "source": [
    "b0 = cvx.Parameter(1)\n",
    "g0 = cvx.Parameter(1)\n",
    "br0 = cvx.Parameter(1)\n",
    "a0 = cvx.Parameter(1)\n",
    "r0 = cvx.Parameter(1)\n",
    "ms0 = cvx.Parameter(1)"
   ]
  },
  {
   "cell_type": "code",
   "execution_count": 129,
   "metadata": {},
   "outputs": [],
   "source": [
    "b0.value = 2       # starting buildings\n",
    "g0.value = 2       # starting gatherers\n",
    "br0.value = 2      # starting builders\n",
    "a0.value = 4       # starting army\n",
    "r0.value = 2       # starting resources\n",
    "ms0.value = 2      # starting maximum supply"
   ]
  },
  {
   "cell_type": "markdown",
   "metadata": {},
   "source": [
    "## Na mão para 2 estágios"
   ]
  },
  {
   "cell_type": "code",
   "execution_count": 130,
   "metadata": {},
   "outputs": [],
   "source": [
    "Constraints1 = [B[0] == Buildings[1] - Buildings[0],\n",
    "              B[0] >= 0,\n",
    "              G[0] == Gatherers[1] - Gatherers[0],\n",
    "              G[0] >= 0,\n",
    "              Br[0] == Builders[1] - Builders[0],\n",
    "              Br[0]>= 0,\n",
    "              \n",
    "             \n",
    "               \n",
    "              Army[1]       == Builders[1] + Gatherers[1],\n",
    "              Army[1] - Army[0] <= o*Buildings[0], \n",
    "              Max_supply[1] == Buildings[1]*k,\n",
    "              Army[1] <= Max_supply[1],\n",
    "              Resources[1] == Resources[0] + q*Gatherers[0] - c1*B[0] - c2*G[0] - c2*Br[0],\n",
    "              Resources[1] >= 0,\n",
    "               \n",
    "              B[0+1] == Buildings[1+1] - Buildings[0+1],\n",
    "              B[0+1] >= 0,\n",
    "              G[0+1] == Gatherers[1+1] - Gatherers[0+1],\n",
    "              G[0+1] >= 0,\n",
    "              Br[0+1] == Builders[1+1] - Builders[0+1],\n",
    "              Br[0+1]>= 0,\n",
    "              \n",
    "             \n",
    "               \n",
    "              Army[1+1]       == Builders[1+1] + Gatherers[1+1],\n",
    "              Army[1+1] - Army[0+1] <= o*Buildings[0+1], \n",
    "              Max_supply[1+1] == Buildings[1+1]*k,\n",
    "              Army[1+1] <= Max_supply[1+1],\n",
    "              Resources[1+1] == Resources[0+1] + q*Gatherers[1] - c1*B[0+1] - c2*G[0+1] - c2*Br[0+1],\n",
    "              Resources[2] >= 0,\n",
    "               \n",
    "             # Stage 0\n",
    "              Buildings[0] == b0,\n",
    "              Gatherers[0] == g0,\n",
    "              Builders[0]  == br0,\n",
    "              Army[0]      == a0,\n",
    "              Resources[0] == r0,\n",
    "              Max_supply[0]== ms0,\n",
    "              ]"
   ]
  },
  {
   "cell_type": "markdown",
   "metadata": {},
   "source": [
    "## Com um for"
   ]
  },
  {
   "cell_type": "code",
   "execution_count": 131,
   "metadata": {},
   "outputs": [],
   "source": [
    "Constraints2 = [Buildings[0] == b0,\n",
    "              Gatherers[0] == g0,\n",
    "              Builders[0]  == br0,\n",
    "              Army[0]      == a0,\n",
    "              Resources[0] == r0,\n",
    "              Max_supply[0]== ms0,\n",
    "              B >= 0,\n",
    "              G >= 0,\n",
    "              Br>= 0]\n",
    "\n",
    "for i in range(T-1):\n",
    "    Constraints.append(B[i]  == Buildings[i+1] - Buildings[i])\n",
    "    Constraints.append(Buildings[i+1] == Buildings[i] + c*Builders[i])\n",
    "    Constraints.append(G[i]  == Gatherers[i+1] - Gatherers[i])\n",
    "    Constraints.append(Br[i] == Builders[i+1]  - Builders[i])\n",
    "#    Constraints.append(c1*B[i] + c2*G[i] + c2*Br[i] <= Resources[i])\n",
    "    Constraints.append(Army[i+1] == Builders[i+1] + Gatherers[i+1])\n",
    "    Constraints.append(Army[i+1] - Army[i] <= o*Buildings[i])\n",
    "    Constraints.append(Army[i+1] <= Max_supply[i+1])\n",
    "    Constraints.append(Max_supply[i+1] == Buildings[i+1]*k)\n",
    "    Constraints.append(Resources[i+1] == Resources[i] + q*Gatherers[i] - c1*B[i] - c2*G[i] - c2*Br[i])\n",
    "    Constraints.append(Resources[i+1] >= 0)   "
   ]
  },
  {
   "cell_type": "markdown",
   "metadata": {},
   "source": [
    "## Forma Vetorizada"
   ]
  },
  {
   "cell_type": "code",
   "execution_count": 132,
   "metadata": {},
   "outputs": [],
   "source": [
    "Constraints = [B == Buildings[1:] - Buildings[:-1],\n",
    "              B >= 0,\n",
    "              G == Gatherers[1:] - Gatherers[:-1],\n",
    "              G >= 0,\n",
    "              Br == Builders[1:] - Builders[:-1],\n",
    "              Br>= 0,\n",
    "#              c1*B + c2*G + c2*Br <= Resources[:-1],\n",
    "               \n",
    "              Army       == Builders + Gatherers,\n",
    "              Army[1:] - Army[:-1] <= o*Buildings[:-1], \n",
    "              Max_supply == Buildings*k,\n",
    "               \n",
    "              Resources[1:] == Resources[:-1] + q*Gatherers[1:] - c1*B[:-1] - c2*G[:-1] - c2*Br[:-1],\n",
    "               \n",
    "               \n",
    "             # Stage 0\n",
    "              Buildings[0] == b0,\n",
    "              Gatherers[0] == g0,\n",
    "              Builders[0]  == br0,\n",
    "              Army[0]      == a0,\n",
    "              Resources[0] == r0,\n",
    "              Max_supply[0]== ms0,\n",
    "              ]"
   ]
  },
  {
   "cell_type": "code",
   "execution_count": 133,
   "metadata": {},
   "outputs": [],
   "source": [
    "problem = cvx.Problem(F_Obj, Constraints1)"
   ]
  },
  {
   "cell_type": "code",
   "execution_count": 134,
   "metadata": {},
   "outputs": [
    {
     "data": {
      "text/plain": [
       "13.999999992420967"
      ]
     },
     "execution_count": 134,
     "metadata": {},
     "output_type": "execute_result"
    }
   ],
   "source": [
    "problem.solve()"
   ]
  },
  {
   "cell_type": "code",
   "execution_count": 135,
   "metadata": {},
   "outputs": [
    {
     "data": {
      "text/plain": [
       "matrix([[2.        ],\n",
       "        [3.09909281],\n",
       "        [4.79537313]])"
      ]
     },
     "execution_count": 135,
     "metadata": {},
     "output_type": "execute_result"
    }
   ],
   "source": [
    "Buildings.value"
   ]
  },
  {
   "cell_type": "code",
   "execution_count": 136,
   "metadata": {},
   "outputs": [
    {
     "data": {
      "text/plain": [
       "matrix([[2.        ],\n",
       "        [5.0885311 ],\n",
       "        [8.18760585]])"
      ]
     },
     "execution_count": 136,
     "metadata": {},
     "output_type": "execute_result"
    }
   ],
   "source": [
    "Gatherers.value"
   ]
  },
  {
   "cell_type": "code",
   "execution_count": 137,
   "metadata": {},
   "outputs": [
    {
     "data": {
      "text/plain": [
       "matrix([[2.        ],\n",
       "        [2.71328327],\n",
       "        [5.81239414]])"
      ]
     },
     "execution_count": 137,
     "metadata": {},
     "output_type": "execute_result"
    }
   ],
   "source": [
    "Builders.value"
   ]
  },
  {
   "cell_type": "code",
   "execution_count": 138,
   "metadata": {},
   "outputs": [
    {
     "data": {
      "text/plain": [
       "matrix([[ 4.        ],\n",
       "        [ 7.80181437],\n",
       "        [13.99999999]])"
      ]
     },
     "execution_count": 138,
     "metadata": {},
     "output_type": "execute_result"
    }
   ],
   "source": [
    "Army.value"
   ]
  },
  {
   "cell_type": "code",
   "execution_count": 139,
   "metadata": {},
   "outputs": [
    {
     "data": {
      "text/plain": [
       "matrix([[2.00000000e+00],\n",
       "        [5.86803774e-09],\n",
       "        [5.86315957e-01]])"
      ]
     },
     "execution_count": 139,
     "metadata": {},
     "output_type": "execute_result"
    }
   ],
   "source": [
    "Resources.value"
   ]
  },
  {
   "cell_type": "code",
   "execution_count": 140,
   "metadata": {},
   "outputs": [
    {
     "data": {
      "text/plain": [
       "matrix([[ 2.        ],\n",
       "        [ 9.29727843],\n",
       "        [14.38611938]])"
      ]
     },
     "execution_count": 140,
     "metadata": {},
     "output_type": "execute_result"
    }
   ],
   "source": [
    "Max_supply.value"
   ]
  },
  {
   "cell_type": "code",
   "execution_count": 141,
   "metadata": {},
   "outputs": [
    {
     "name": "stdout",
     "output_type": "stream",
     "text": [
      "var1631[0, 0] == param1640\n",
      "var1632[0, 0] == param1641\n"
     ]
    }
   ],
   "source": [
    "for i in problem.constraints:\n",
    "    if i.dual_value > 1:\n",
    "        print(i)\n",
    "    #print(i.dual_value)"
   ]
  },
  {
   "cell_type": "markdown",
   "metadata": {},
   "source": [
    "## Um problema de T estágios"
   ]
  },
  {
   "cell_type": "code",
   "execution_count": 431,
   "metadata": {},
   "outputs": [],
   "source": [
    "import cvxpy as cvx\n",
    "import numpy as np"
   ]
  },
  {
   "cell_type": "code",
   "execution_count": 466,
   "metadata": {},
   "outputs": [],
   "source": [
    "T = 5"
   ]
  },
  {
   "cell_type": "code",
   "execution_count": 467,
   "metadata": {},
   "outputs": [],
   "source": [
    "Buildings  = cvx.Variable(T)\n",
    "Gatherers  = cvx.Variable(T)\n",
    "Builders   = cvx.Variable(T)\n",
    "Army       = cvx.Variable(T)\n",
    "Resources  = cvx.Variable(T)\n",
    "Max_supply = cvx.Variable(T)"
   ]
  },
  {
   "cell_type": "code",
   "execution_count": 468,
   "metadata": {},
   "outputs": [],
   "source": [
    "custo_building      = 2 # buildings costs                         recurso/casinha\n",
    "custo_units         = 1 # units costs                             recurso/pessoinha\n",
    "supply_building     = 3 # supply per structure                    caminha/casinha\n",
    "army_building       = 2 # army trained per house                   pessoinhas/casinha\n",
    "building_builder    = 1 # buildings constructed per builder       casinhas/pessoinha1\n",
    "production_gatherer = 2 # resources gathered per gatherer          recursos/pessoinha2"
   ]
  },
  {
   "cell_type": "code",
   "execution_count": 495,
   "metadata": {},
   "outputs": [],
   "source": [
    "F_Obj = cvx.Maximize(Army[-1])"
   ]
  },
  {
   "cell_type": "code",
   "execution_count": 496,
   "metadata": {},
   "outputs": [],
   "source": [
    "B = cvx.Variable(T-1)\n",
    "G = cvx.Variable(T-1)\n",
    "Br = cvx.Variable(T-1)"
   ]
  },
  {
   "cell_type": "code",
   "execution_count": 497,
   "metadata": {},
   "outputs": [],
   "source": [
    "b0 = cvx.Parameter(1)\n",
    "g0 = cvx.Parameter(1)\n",
    "br0 = cvx.Parameter(1)\n",
    "r0 = cvx.Parameter(1)\n",
    "ms0 = cvx.Parameter(1)"
   ]
  },
  {
   "cell_type": "code",
   "execution_count": 498,
   "metadata": {},
   "outputs": [],
   "source": [
    "b0.value  = 1       # starting buildings\n",
    "g0.value  = 1       # starting gatherers\n",
    "br0.value = 0       # starting builders\n",
    "r0.value  = 0       # starting resources\n",
    "ms0.value = 2       # starting maximum supply"
   ]
  },
  {
   "cell_type": "code",
   "execution_count": 499,
   "metadata": {},
   "outputs": [],
   "source": [
    "Constraints = [Buildings[0] == b0,\n",
    "              Gatherers[0] == g0,\n",
    "              Builders[0]  == br0,\n",
    "              Army[0]      == g0 + br0,\n",
    "              Resources[0] == r0,\n",
    "              B >= 0,\n",
    "              G >= 0,\n",
    "              Br>= 0]\n",
    "\n",
    "for i in range(T-1):\n",
    "    \n",
    "    Constraints.append(B[i]  == Buildings[i+1] - Buildings[i])\n",
    "    Constraints.append(Br[i] == Builders[i+1]  - Builders[i])\n",
    "    Constraints.append(G[i]  == Gatherers[i+1] - Gatherers[i])\n",
    "    \n",
    "    Constraints.append(B[i] <= building_builder*Builders[i])\n",
    "    Constraints.append(Br[i] + G[i] <= army_building*Buildings[i])\n",
    "    \n",
    "    Constraints.append(Army[i+1]           == Builders[i+1] + Gatherers[i+1])\n",
    "    Constraints.append(Army[i+1]           <= Buildings[i+1]*supply_building)\n",
    "    \n",
    "    Constraints.append(Resources[i+1] == Resources[i]\n",
    "                       + production_gatherer*Gatherers[i]\n",
    "                       - custo_building*B[i] - custo_units*(G[i] + Br[i]))    \n",
    "    Constraints.append(Resources[i+1] >= 0)\n",
    "    Constraints.append(Resources[i]   >= custo_building*B[i] + custo_units*(G[i] + Br[i]))\n"
   ]
  },
  {
   "cell_type": "code",
   "execution_count": 500,
   "metadata": {},
   "outputs": [],
   "source": [
    "problem = cvx.Problem(F_Obj, Constraints)"
   ]
  },
  {
   "cell_type": "code",
   "execution_count": 501,
   "metadata": {},
   "outputs": [
    {
     "name": "stdout",
     "output_type": "stream",
     "text": [
      "Wall time: 62.8 ms\n"
     ]
    },
    {
     "data": {
      "text/plain": [
       "1.4000000010758267"
      ]
     },
     "execution_count": 501,
     "metadata": {},
     "output_type": "execute_result"
    }
   ],
   "source": [
    "%time problem.solve(solver='ECOS') #SCS"
   ]
  },
  {
   "cell_type": "code",
   "execution_count": 503,
   "metadata": {},
   "outputs": [
    {
     "data": {
      "image/png": "[encoded data removed]",
      "text/plain": [
       "<Figure size 432x288 with 1 Axes>"
      ]
     },
     "metadata": {},
     "output_type": "display_data"
    }
   ],
   "source": [
    "plt.plot(Buildings.value,'--*', label='buildings')\n",
    "\n",
    "plt.plot(Gatherers.value,'o--', label='gath')\n",
    "plt.plot(Builders.value, label='builders')\n",
    "#plt.plot(Army.value, label='')\n",
    "plt.plot(Resources.value, label='resources')\n",
    "#plt.plot(Max_supply.value, label='')\n",
    "#plt.plot(B.value, label='')\n",
    "#plt.plot(G.value, label='')\n",
    "\n",
    "plt.yscale('symlog')\n",
    "plt.grid()\n",
    "plt.legend();"
   ]
  },
  {
   "cell_type": "code",
   "execution_count": null,
   "metadata": {},
   "outputs": [],
   "source": []
  },
  {
   "cell_type": "code",
   "execution_count": null,
   "metadata": {},
   "outputs": [],
   "source": []
  }
 ],
 "metadata": {
  "kernelspec": {
   "display_name": "Python 3",
   "language": "python",
   "name": "python3"
  },
  "language_info": {
   "codemirror_mode": {
    "name": "ipython",
    "version": 3
   },
   "file_extension": ".py",
   "mimetype": "text/x-python",
   "name": "python",
   "nbconvert_exporter": "python",
   "pygments_lexer": "ipython3",
   "version": "3.7.5"
  }
 },
 "nbformat": 4,
 "nbformat_minor": 2
}
