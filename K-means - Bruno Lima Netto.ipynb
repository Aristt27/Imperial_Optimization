{
 "cells": [
  {
   "cell_type": "markdown",
   "metadata": {},
   "source": [
    "# Naive K-means"
   ]
  },
  {
   "cell_type": "code",
   "execution_count": 1,
   "metadata": {},
   "outputs": [],
   "source": [
    "import numpy as np\n",
    "import matplotlib.pyplot as plt"
   ]
  },
  {
   "cell_type": "code",
   "execution_count": 2,
   "metadata": {},
   "outputs": [],
   "source": [
    "# parâmetros\n",
    "\n",
    "dim = 2\n",
    "N   = 77\n",
    "K   = 3"
   ]
  },
  {
   "cell_type": "code",
   "execution_count": 4,
   "metadata": {},
   "outputs": [],
   "source": [
    "np.random.seed(42)            # seed para a replicação do experimento com nosso numero favorito\n",
    "xs = np.random.rand(dim,N)    # gerando um conjunto de dados"
   ]
  },
  {
   "cell_type": "code",
   "execution_count": 5,
   "metadata": {},
   "outputs": [
    {
     "data": {
      "text/plain": [
       "[<matplotlib.lines.Line2D at 0x198d59b3388>]"
      ]
     },
     "execution_count": 5,
     "metadata": {},
     "output_type": "execute_result"
    },
    {
     "data": {
      "image/png": "[encoded data removed]",
      "text/plain": [
       "<Figure size 432x288 with 1 Axes>"
      ]
     },
     "metadata": {
      "needs_background": "light"
     },
     "output_type": "display_data"
    }
   ],
   "source": [
    "plt.plot(*xs,'r*')            # visual em dos nossos dados"
   ]
  },
  {
   "cell_type": "code",
   "execution_count": 6,
   "metadata": {},
   "outputs": [
    {
     "data": {
      "text/plain": [
       "[<matplotlib.lines.Line2D at 0x198d63021c8>]"
      ]
     },
     "execution_count": 6,
     "metadata": {},
     "output_type": "execute_result"
    },
    {
     "data": {
      "image/png": "[encoded data removed]",
      "text/plain": [
       "<Figure size 432x288 with 1 Axes>"
      ]
     },
     "metadata": {
      "needs_background": "light"
     },
     "output_type": "display_data"
    }
   ],
   "source": [
    "np.random.seed(42)            # novamente nosso numero favorito para replicabilidade do experimento\n",
    "\n",
    "cs = np.random.rand(2,K)      # pegando K = 3 centroides aleatoros\n",
    "\n",
    "plt.plot(*xs,'r*')            # dados em vermelho\n",
    "plt.plot(*cs,'bo')             # centros em azul"
   ]
  },
  {
   "cell_type": "code",
   "execution_count": 6,
   "metadata": {},
   "outputs": [
    {
     "data": {
      "text/plain": [
       "array([[0., 0., 0., 0., 0., 0., 0., 0., 0., 0., 0., 0., 0., 0., 0., 0.,\n",
       "        0., 0., 0., 0., 0., 0., 0., 0., 0., 0., 0., 0., 0., 0., 0., 0.,\n",
       "        0., 0., 0., 0., 0., 0., 0., 0., 0., 0., 0., 0., 0., 0., 0., 0.,\n",
       "        0., 0., 0., 0., 0., 0., 0., 0., 0., 0., 0., 0., 0., 0., 0., 0.,\n",
       "        0., 0., 0., 0., 0., 0., 0., 0., 0., 0., 0., 0., 0.],\n",
       "       [0., 0., 0., 0., 0., 0., 0., 0., 0., 0., 0., 0., 0., 0., 0., 0.,\n",
       "        0., 0., 0., 0., 0., 0., 0., 0., 0., 0., 0., 0., 0., 0., 0., 0.,\n",
       "        0., 0., 0., 0., 0., 0., 0., 0., 0., 0., 0., 0., 0., 0., 0., 0.,\n",
       "        0., 0., 0., 0., 0., 0., 0., 0., 0., 0., 0., 0., 0., 0., 0., 0.,\n",
       "        0., 0., 0., 0., 0., 0., 0., 0., 0., 0., 0., 0., 0.],\n",
       "       [0., 0., 0., 0., 0., 0., 0., 0., 0., 0., 0., 0., 0., 0., 0., 0.,\n",
       "        0., 0., 0., 0., 0., 0., 0., 0., 0., 0., 0., 0., 0., 0., 0., 0.,\n",
       "        0., 0., 0., 0., 0., 0., 0., 0., 0., 0., 0., 0., 0., 0., 0., 0.,\n",
       "        0., 0., 0., 0., 0., 0., 0., 0., 0., 0., 0., 0., 0., 0., 0., 0.,\n",
       "        0., 0., 0., 0., 0., 0., 0., 0., 0., 0., 0., 0., 0.]])"
      ]
     },
     "execution_count": 6,
     "metadata": {},
     "output_type": "execute_result"
    }
   ],
   "source": [
    "classes = np.zeros(shape=(K,N))\n",
    "classes"
   ]
  },
  {
   "cell_type": "markdown",
   "metadata": {},
   "source": [
    "### para cada classe, temos um array que diz se um ponto pertence a ela ou não."
   ]
  },
  {
   "cell_type": "code",
   "execution_count": 7,
   "metadata": {},
   "outputs": [],
   "source": [
    "for idx,p in enumerate(xs.T):\n",
    "    d = np.argmin([np.linalg.norm(p-c) for c in cs.T])\n",
    "    classes[d][idx] = 1"
   ]
  },
  {
   "cell_type": "code",
   "execution_count": 8,
   "metadata": {},
   "outputs": [
    {
     "data": {
      "text/plain": [
       "array([[0., 0., 0., 1., 1., 1., 1., 0., 0., 1., 1., 1., 0., 1., 1., 1.,\n",
       "        1., 1., 1., 1., 1., 0., 0., 0., 1., 0., 1., 1., 0., 1., 1., 1.,\n",
       "        1., 0., 0., 1., 1., 1., 1., 1., 1., 1., 1., 1., 1., 0., 0., 0.,\n",
       "        1., 1., 1., 0., 0., 0., 0., 0., 1., 1., 1., 1., 1., 1., 1., 1.,\n",
       "        1., 1., 1., 0., 1., 0., 0., 0., 1., 1., 0., 0., 0.],\n",
       "       [0., 1., 0., 0., 0., 0., 0., 1., 0., 0., 0., 0., 0., 0., 0., 0.,\n",
       "        0., 0., 0., 0., 0., 0., 0., 0., 0., 0., 0., 0., 0., 0., 0., 0.,\n",
       "        0., 1., 1., 0., 0., 0., 0., 0., 0., 0., 0., 0., 0., 0., 0., 0.,\n",
       "        0., 0., 0., 0., 1., 1., 0., 1., 0., 0., 0., 0., 0., 0., 0., 0.,\n",
       "        0., 0., 0., 0., 0., 1., 0., 0., 0., 0., 0., 0., 0.],\n",
       "       [1., 0., 1., 0., 0., 0., 0., 0., 1., 0., 0., 0., 1., 0., 0., 0.,\n",
       "        0., 0., 0., 0., 0., 1., 1., 1., 0., 1., 0., 0., 1., 0., 0., 0.,\n",
       "        0., 0., 0., 0., 0., 0., 0., 0., 0., 0., 0., 0., 0., 1., 1., 1.,\n",
       "        0., 0., 0., 1., 0., 0., 1., 0., 0., 0., 0., 0., 0., 0., 0., 0.,\n",
       "        0., 0., 0., 1., 0., 0., 1., 1., 0., 0., 1., 1., 1.]])"
      ]
     },
     "execution_count": 8,
     "metadata": {},
     "output_type": "execute_result"
    }
   ],
   "source": [
    "classes"
   ]
  },
  {
   "cell_type": "markdown",
   "metadata": {},
   "source": [
    "### Agora queremos calcular os novos centroides, a partir dessas classes"
   ]
  },
  {
   "cell_type": "code",
   "execution_count": 9,
   "metadata": {},
   "outputs": [
    {
     "data": {
      "text/plain": [
       "array([[0., 0., 0.],\n",
       "       [0., 0., 0.]])"
      ]
     },
     "execution_count": 9,
     "metadata": {},
     "output_type": "execute_result"
    }
   ],
   "source": [
    "new_cs = np.zeros(shape=(dim,K))\n",
    "new_cs"
   ]
  },
  {
   "cell_type": "code",
   "execution_count": 10,
   "metadata": {},
   "outputs": [
    {
     "data": {
      "text/plain": [
       "array([[0., 0., 0., 1., 1., 1., 1., 0., 0., 1., 1., 1., 0., 1., 1., 1.,\n",
       "        1., 1., 1., 1., 1., 0., 0., 0., 1., 0., 1., 1., 0., 1., 1., 1.,\n",
       "        1., 0., 0., 1., 1., 1., 1., 1., 1., 1., 1., 1., 1., 0., 0., 0.,\n",
       "        1., 1., 1., 0., 0., 0., 0., 0., 1., 1., 1., 1., 1., 1., 1., 1.,\n",
       "        1., 1., 1., 0., 1., 0., 0., 0., 1., 1., 0., 0., 0.],\n",
       "       [0., 1., 0., 0., 0., 0., 0., 1., 0., 0., 0., 0., 0., 0., 0., 0.,\n",
       "        0., 0., 0., 0., 0., 0., 0., 0., 0., 0., 0., 0., 0., 0., 0., 0.,\n",
       "        0., 1., 1., 0., 0., 0., 0., 0., 0., 0., 0., 0., 0., 0., 0., 0.,\n",
       "        0., 0., 0., 0., 1., 1., 0., 1., 0., 0., 0., 0., 0., 0., 0., 0.,\n",
       "        0., 0., 0., 0., 0., 1., 0., 0., 0., 0., 0., 0., 0.],\n",
       "       [1., 0., 1., 0., 0., 0., 0., 0., 1., 0., 0., 0., 1., 0., 0., 0.,\n",
       "        0., 0., 0., 0., 0., 1., 1., 1., 0., 1., 0., 0., 1., 0., 0., 0.,\n",
       "        0., 0., 0., 0., 0., 0., 0., 0., 0., 0., 0., 0., 0., 1., 1., 1.,\n",
       "        0., 0., 0., 1., 0., 0., 1., 0., 0., 0., 0., 0., 0., 0., 0., 0.,\n",
       "        0., 0., 0., 1., 0., 0., 1., 1., 0., 0., 1., 1., 1.]])"
      ]
     },
     "execution_count": 10,
     "metadata": {},
     "output_type": "execute_result"
    }
   ],
   "source": [
    "classes"
   ]
  },
  {
   "cell_type": "code",
   "execution_count": 11,
   "metadata": {},
   "outputs": [
    {
     "data": {
      "text/plain": [
       "array([[0.37454012, 0.95071431, 0.73199394, 0.59865848, 0.15601864,\n",
       "        0.15599452, 0.05808361, 0.86617615, 0.60111501, 0.70807258,\n",
       "        0.02058449, 0.96990985, 0.83244264, 0.21233911, 0.18182497,\n",
       "        0.18340451, 0.30424224, 0.52475643, 0.43194502, 0.29122914,\n",
       "        0.61185289, 0.13949386, 0.29214465, 0.36636184, 0.45606998,\n",
       "        0.78517596, 0.19967378, 0.51423444, 0.59241457, 0.04645041,\n",
       "        0.60754485, 0.17052412, 0.06505159, 0.94888554, 0.96563203,\n",
       "        0.80839735, 0.30461377, 0.09767211, 0.68423303, 0.44015249,\n",
       "        0.12203823, 0.49517691, 0.03438852, 0.9093204 , 0.25877998,\n",
       "        0.66252228, 0.31171108, 0.52006802, 0.54671028, 0.18485446,\n",
       "        0.96958463, 0.77513282, 0.93949894, 0.89482735, 0.59789998,\n",
       "        0.92187424, 0.0884925 , 0.19598286, 0.04522729, 0.32533033,\n",
       "        0.38867729, 0.27134903, 0.82873751, 0.35675333, 0.28093451,\n",
       "        0.54269608, 0.14092422, 0.80219698, 0.07455064, 0.98688694,\n",
       "        0.77224477, 0.19871568, 0.00552212, 0.81546143, 0.70685734,\n",
       "        0.72900717, 0.77127035],\n",
       "       [0.07404465, 0.35846573, 0.11586906, 0.86310343, 0.62329813,\n",
       "        0.33089802, 0.06355835, 0.31098232, 0.32518332, 0.72960618,\n",
       "        0.63755747, 0.88721274, 0.47221493, 0.11959425, 0.71324479,\n",
       "        0.76078505, 0.5612772 , 0.77096718, 0.4937956 , 0.52273283,\n",
       "        0.42754102, 0.02541913, 0.10789143, 0.03142919, 0.63641041,\n",
       "        0.31435598, 0.50857069, 0.90756647, 0.24929223, 0.41038292,\n",
       "        0.75555114, 0.22879817, 0.07697991, 0.28975145, 0.16122129,\n",
       "        0.92969765, 0.80812038, 0.63340376, 0.87146059, 0.80367208,\n",
       "        0.18657006, 0.892559  , 0.53934224, 0.80744016, 0.8960913 ,\n",
       "        0.31800347, 0.11005192, 0.22793516, 0.42710779, 0.81801477,\n",
       "        0.86073058, 0.00695213, 0.5107473 , 0.417411  , 0.22210781,\n",
       "        0.11986537, 0.33761517, 0.9429097 , 0.32320293, 0.51879062,\n",
       "        0.70301896, 0.3636296 , 0.97178208, 0.96244729, 0.2517823 ,\n",
       "        0.49724851, 0.30087831, 0.28484049, 0.03688695, 0.60956433,\n",
       "        0.50267902, 0.05147875, 0.27864646, 0.90826589, 0.23956189,\n",
       "        0.14489487, 0.48945276]])"
      ]
     },
     "execution_count": 11,
     "metadata": {},
     "output_type": "execute_result"
    }
   ],
   "source": [
    "xs"
   ]
  },
  {
   "cell_type": "code",
   "execution_count": 12,
   "metadata": {},
   "outputs": [],
   "source": [
    "for i in range(K):\n",
    "    new_cs[0][i] += xs[0]@classes[i]/sum(classes[i])\n",
    "    new_cs[1][i] += xs[1]@classes[i]/sum(classes[i])"
   ]
  },
  {
   "cell_type": "code",
   "execution_count": 13,
   "metadata": {},
   "outputs": [
    {
     "data": {
      "text/plain": [
       "array([[0.36091892, 0.93431194, 0.57816545],\n",
       "       [0.58981116, 0.3472511 , 0.21568291]])"
      ]
     },
     "execution_count": 13,
     "metadata": {},
     "output_type": "execute_result"
    }
   ],
   "source": [
    "new_cs"
   ]
  },
  {
   "cell_type": "code",
   "execution_count": 14,
   "metadata": {},
   "outputs": [
    {
     "data": {
      "text/plain": [
       "[<matplotlib.lines.Line2D at 0x1ee177530b8>]"
      ]
     },
     "execution_count": 14,
     "metadata": {},
     "output_type": "execute_result"
    },
    {
     "data": {
      "image/png": "[encoded data removed]",
      "text/plain": [
       "<Figure size 432x288 with 1 Axes>"
      ]
     },
     "metadata": {},
     "output_type": "display_data"
    }
   ],
   "source": [
    "plt.plot(*xs,'r*')\n",
    "plt.plot(*cs, '*')"
   ]
  },
  {
   "cell_type": "code",
   "execution_count": 15,
   "metadata": {},
   "outputs": [
    {
     "data": {
      "text/plain": [
       "[<matplotlib.lines.Line2D at 0x1ee176e0860>]"
      ]
     },
     "execution_count": 15,
     "metadata": {},
     "output_type": "execute_result"
    },
    {
     "data": {
      "image/png": "[encoded data removed]",
      "text/plain": [
       "<Figure size 432x288 with 1 Axes>"
      ]
     },
     "metadata": {},
     "output_type": "display_data"
    }
   ],
   "source": [
    "plt.plot(*xs, 'r*')\n",
    "plt.plot(*new_cs,'*')"
   ]
  },
  {
   "cell_type": "markdown",
   "metadata": {},
   "source": [
    "### Queremos definir um loop pra recalcular os centróides, tal que se os novos centroides estão ϵ-perto dos antigos, paramos o loop."
   ]
  },
  {
   "cell_type": "code",
   "execution_count": 16,
   "metadata": {},
   "outputs": [],
   "source": [
    "eps = 0.01\n",
    "\n",
    "c_diff = 1\n",
    "\n",
    "while np.linalg.norm(c_diff) > eps:\n",
    "    \n",
    "    classes = np.zeros(shape=(K,N))\n",
    "    \n",
    "    for idx,p in enumerate(xs.T):\n",
    "        d = np.argmin([np.linalg.norm(p-c) for c in cs.T])\n",
    "        classes[d][idx] = 1\n",
    "    \n",
    "    new_cs = np.zeros(shape=(dim,K))\n",
    "    \n",
    "    for i in range(K):\n",
    "        new_cs[0][i] += xs[0]@classes[i]/sum(classes[i])\n",
    "        new_cs[1][i] += xs[1]@classes[i]/sum(classes[i])\n",
    "\n",
    "    \n",
    "    c_diff = new_cs - cs\n",
    "    cs     = new_cs"
   ]
  },
  {
   "cell_type": "code",
   "execution_count": 17,
   "metadata": {},
   "outputs": [
    {
     "data": {
      "text/plain": [
       "array([[0.32947208, 0.79179072, 0.18764368],\n",
       "       [0.72578764, 0.44871127, 0.18750827]])"
      ]
     },
     "execution_count": 17,
     "metadata": {},
     "output_type": "execute_result"
    }
   ],
   "source": [
    "cs"
   ]
  },
  {
   "cell_type": "code",
   "execution_count": 18,
   "metadata": {},
   "outputs": [
    {
     "data": {
      "text/plain": [
       "[<matplotlib.lines.Line2D at 0x1ee178044a8>]"
      ]
     },
     "execution_count": 18,
     "metadata": {},
     "output_type": "execute_result"
    },
    {
     "data": {
      "image/png": "[encoded data removed]",
      "text/plain": [
       "<Figure size 432x288 with 1 Axes>"
      ]
     },
     "metadata": {},
     "output_type": "display_data"
    }
   ],
   "source": [
    "plt.plot(*xs,'r*')\n",
    "plt.plot(*cs, '*')"
   ]
  },
  {
   "cell_type": "markdown",
   "metadata": {},
   "source": [
    "## Definindo uma função naiveK_means"
   ]
  },
  {
   "cell_type": "code",
   "execution_count": 19,
   "metadata": {},
   "outputs": [
    {
     "data": {
      "text/plain": [
       "(2, 77)"
      ]
     },
     "execution_count": 19,
     "metadata": {},
     "output_type": "execute_result"
    }
   ],
   "source": [
    "xs.shape"
   ]
  },
  {
   "cell_type": "code",
   "execution_count": 3,
   "metadata": {},
   "outputs": [],
   "source": [
    "def Naive_Kmeans(X, K, tol):\n",
    "    \n",
    "    ''' Função que retorna K centros e as classes finais para visualização do K-means como clusterização dos dados\n",
    "    \n",
    "    As entradas estão no seguinte formato:\n",
    "    \n",
    "    X é um array de shape (dim,N) com:\n",
    "        -N é a quantidade de dados;\n",
    "        -dim é a dimensão dos dados;\n",
    "    K é a quantidade de centroides a serem considerados;\n",
    "    Tol é a margem de erro dos centroides em relação a solução.\n",
    "    \n",
    "    Podemos claramente modificar como são definidas as classes, ao invés de distâncias euclidianas,\n",
    "    podemos utilizar outras métricas.\n",
    "    \n",
    "    Certamente um projeto bacana :)   '''\n",
    "   \n",
    "    \n",
    "    N   = len(X[0])\n",
    "    dim = len(X)\n",
    "        \n",
    "    cs      = np.random.rand(dim,K)*np.max(X)     # centroides aleatórios\n",
    "\n",
    "    c_diff = tol + 1                  # um numero para começar o loop\n",
    "\n",
    "    while np.linalg.norm(c_diff) > tol:  # loop que considerando a norma ao quadrado\n",
    "\n",
    "        classes = np.zeros(shape=(K,N))  # inicializando as classes\n",
    "\n",
    "        for idx,p in enumerate(X.T):    # enumerates são nossos amigos!\n",
    "            d = np.argmin([np.linalg.norm(p-c) for c in cs.T])\n",
    "            classes[d][idx] = 1          # definindo as classes de cada dado (podemos utilizar uma heuristica, se forem muitos)\n",
    "\n",
    "        new_cs = np.zeros(shape=(dim,K)) # inicializandoos novos centorides\n",
    "\n",
    "        for i in range(K):\n",
    "            for d in range(dim):\n",
    "                if sum(classes[i]) > 0:                      # Um pequeno cuidado com divisão por zero\n",
    "                    new_cs[d][i] += X[d]@classes[i]/sum(classes[i])    #Calculando novos centroides\n",
    "                else:\n",
    "                    new_cs[d][i] += np.random.rand(1)*np.max(X) \n",
    "                    \n",
    "        c_diff = new_cs - cs      # passo do loop\n",
    "        cs     = new_cs           # certificando que os centroides novos vão sendo passados para frente.\n",
    "    \n",
    "    return cs, classes"
   ]
  },
  {
   "cell_type": "code",
   "execution_count": 21,
   "metadata": {},
   "outputs": [],
   "source": [
    "cs1, classes1 = Naive_Kmeans(xs, 3, 0.01)"
   ]
  },
  {
   "cell_type": "code",
   "execution_count": 22,
   "metadata": {},
   "outputs": [
    {
     "data": {
      "text/plain": [
       "[<matplotlib.lines.Line2D at 0x1ee17884320>]"
      ]
     },
     "execution_count": 22,
     "metadata": {},
     "output_type": "execute_result"
    },
    {
     "data": {
      "image/png": "[encoded data removed]",
      "text/plain": [
       "<Figure size 432x288 with 1 Axes>"
      ]
     },
     "metadata": {},
     "output_type": "display_data"
    }
   ],
   "source": [
    "plt.plot(*xs,'r*')  # nosso dados em vermelho\n",
    "plt.plot(*cs1,'bo')   # esse underline pega o resultado da ultima célula a ser rodada! "
   ]
  },
  {
   "cell_type": "markdown",
   "metadata": {},
   "source": [
    "## Alterando kernel - The next big thing\n"
   ]
  },
  {
   "cell_type": "markdown",
   "metadata": {},
   "source": [
    "Vamos começar a dissecar nossa função Naive_Kmeans"
   ]
  },
  {
   "cell_type": "code",
   "execution_count": 23,
   "metadata": {},
   "outputs": [],
   "source": [
    "def Naive_Kmeans(X, K, tol):\n",
    "    \n",
    "    ''' Função que retorna K centros e as classes finais para visualização do K-means como clusterização dos dados\n",
    "    \n",
    "    As entradas estão no seguinte formato:\n",
    "    \n",
    "    X é um array de shape (dim,N) com:\n",
    "        -N é a quantidade de dados;\n",
    "        -dim é a dimensão dos dados;\n",
    "    K é a quantidade de centroides a serem considerados;\n",
    "    Tol é a margem de erro dos centroides em relação a solução.\n",
    "    \n",
    "    Podemos claramente modificar como são definidas as classes, ao invés de distâncias euclidianas,\n",
    "    podemos utilizar outras métricas.\n",
    "    \n",
    "    Certamente um projeto bacana :)   '''\n",
    "   \n",
    "    \n",
    "    N   = len(X[0])\n",
    "    dim = len(X)\n",
    "    \n",
    "    cs      = np.random.rand(dim,K)*np.max(X)  \n",
    "\n",
    "    c_diff = tol + 1                 \n",
    "\n",
    "    while np.linalg.norm(c_diff) > tol:\n",
    "\n",
    "        classes = np.zeros(shape=(K,N)) \n",
    "\n",
    "        for idx,p in enumerate(X.T):    \n",
    "            d = np.argmin([np.linalg.norm(p-c) for c in cs.T]) # queremos mudar isso aqui\n",
    "            classes[d][idx] = 1          \n",
    "\n",
    "        new_cs = np.zeros(shape=(dim,K)) \n",
    "\n",
    "        for i in range(K):\n",
    "            for d in range(dim):\n",
    "                if sum(classes[i]) > 0:\n",
    "                    new_cs[d][i] += X[d]@classes[i]/sum(classes[i])    # e, por via das duvidas, isso aqui tambem!\n",
    "                else:\n",
    "                    new_cs[d][i] += np.random.rand(1)*np.max(X) \n",
    "                    \n",
    "        c_diff = new_cs - cs\n",
    "        cs     = new_cs          \n",
    "    \n",
    "    return cs, classes"
   ]
  },
  {
   "cell_type": "markdown",
   "metadata": {},
   "source": [
    "## Prosseguiremos por partes.\n",
    "\n",
    "Primeiramente, podemos reescrever nossa função com algumas funções auxiliares, da seguinte maneira:"
   ]
  },
  {
   "cell_type": "code",
   "execution_count": 24,
   "metadata": {},
   "outputs": [],
   "source": [
    "def update_classes(X,cs,classes):\n",
    "    ' dado novos centroides, recalcula as classes de cada centroide'\n",
    "    \n",
    "    for idx,p in enumerate(X.T):    \n",
    "            d = np.argmin([np.linalg.norm(p-c) for c in cs.T]) # e isso aqui!\n",
    "            classes[d][idx] = 1\n",
    "    \n",
    "    return classes"
   ]
  },
  {
   "cell_type": "code",
   "execution_count": 25,
   "metadata": {},
   "outputs": [],
   "source": [
    "def update_centroids(X,cs,classes,K):\n",
    "    ' dado as novas classes, recalcula os novos centroides '\n",
    "    \n",
    "    new_cs = cs \n",
    "    \n",
    "    for i in range(K):\n",
    "            for d in range(dim):\n",
    "                if sum(classes[i]) > 0:\n",
    "                    new_cs[d][i] += X[d]@classes[i]/sum(classes[i])   # queremos mudar isso aqui\n",
    "                else:\n",
    "                    new_cs[d][i] += np.random.rand(1)*np.max(X) \n",
    "                    \n",
    "    \n",
    "    return new_cs"
   ]
  },
  {
   "cell_type": "code",
   "execution_count": 26,
   "metadata": {},
   "outputs": [],
   "source": [
    "def Kmeans(X, K, tol):\n",
    "    \n",
    "    \n",
    "    N      = len(X[0])\n",
    "    dim    = len(X)\n",
    "        \n",
    "    cs     = np.random.rand(dim,K)*np.max(X)    \n",
    "\n",
    "    c_diff = tol + 1                 \n",
    "\n",
    "    while np.linalg.norm(c_diff) > tol: \n",
    "\n",
    "        classes = update_classes(xs,cs,np.zeros(shape=(K,N)))\n",
    "\n",
    "        new_cs  = update_centroids(xs,np.zeros(shape=(dim,K)),classes,K)\n",
    "\n",
    "        c_diff  = new_cs - cs\n",
    "        cs      = new_cs          \n",
    "    \n",
    "    return cs, classes"
   ]
  },
  {
   "cell_type": "markdown",
   "metadata": {},
   "source": [
    "Assim como estamos agrupando os pontos que estão mais 'perto' na norma 2 dos centroides, podemos agrupá-los utilizando a função a seguir:"
   ]
  },
  {
   "cell_type": "markdown",
   "metadata": {},
   "source": [
    "# Gaussian Kernel"
   ]
  },
  {
   "cell_type": "code",
   "execution_count": 27,
   "metadata": {},
   "outputs": [],
   "source": [
    "def gaussian(x, y, σ = 0.95):\n",
    "    return np.exp((-np.linalg.norm(x-y)**2)/σ**2)"
   ]
  },
  {
   "cell_type": "code",
   "execution_count": 28,
   "metadata": {},
   "outputs": [],
   "source": [
    "x = np.array([3,1.1])\n",
    "y = np.array([1,1])\n",
    "z = np.array([1.1,1.1])"
   ]
  },
  {
   "cell_type": "code",
   "execution_count": 29,
   "metadata": {},
   "outputs": [
    {
     "data": {
      "text/plain": [
       "(0.011758095505956077, 0.01831563888873418, 0.9780830788850545)"
      ]
     },
     "execution_count": 29,
     "metadata": {},
     "output_type": "execute_result"
    }
   ],
   "source": [
    "gaussian(x,y), gaussian(x,z), gaussian(z,y)"
   ]
  },
  {
   "cell_type": "markdown",
   "metadata": {},
   "source": [
    "#### Note que as entradas proximas (1.1 e 1) são identificadas com um numero próximo de 1, enquanto que as entradas mais distantes (3 e 1) são identificadas com um numero pequeno\n",
    "\n",
    "Dessa forma, podemos agrupar os pontos tal que 1 - gaussian(x,y) seja o menor possível."
   ]
  },
  {
   "cell_type": "code",
   "execution_count": 30,
   "metadata": {},
   "outputs": [],
   "source": [
    "def update_classes(X,cs,classes):\n",
    "    ' dado novos centroides, recalcula as classes de cada centroide'\n",
    "    \n",
    "    for idx,p in enumerate(X.T):    \n",
    "            d = np.argmin([1 - gaussian(p,c) for c in cs.T]) # é isso aqui!\n",
    "            classes[d][idx] = 1\n",
    "    \n",
    "    return classes"
   ]
  },
  {
   "cell_type": "code",
   "execution_count": 31,
   "metadata": {},
   "outputs": [],
   "source": [
    "def Kmeans(X, K, tol):\n",
    "    \n",
    "    \n",
    "    N      = len(X[0])\n",
    "    dim    = len(X)\n",
    "        \n",
    "    cs     = np.random.rand(dim,K)*np.max(X)    \n",
    "\n",
    "    c_diff = tol + 1                 \n",
    "\n",
    "    while np.linalg.norm(c_diff) > tol: \n",
    "\n",
    "        classes = update_classes(X,cs,np.zeros(shape=(K,N)))\n",
    "\n",
    "        new_cs  = update_centroids(X,np.zeros(shape=(dim,K)),classes,K)\n",
    "\n",
    "        c_diff  = new_cs - cs\n",
    "        cs      = new_cs          \n",
    "    \n",
    "    return cs, classes"
   ]
  },
  {
   "cell_type": "code",
   "execution_count": 32,
   "metadata": {},
   "outputs": [],
   "source": [
    "cs2, classes2 = Kmeans(xs,3,0.01)"
   ]
  },
  {
   "cell_type": "code",
   "execution_count": 33,
   "metadata": {},
   "outputs": [
    {
     "data": {
      "text/plain": [
       "[<matplotlib.lines.Line2D at 0x1ee178e63c8>]"
      ]
     },
     "execution_count": 33,
     "metadata": {},
     "output_type": "execute_result"
    },
    {
     "data": {
      "image/png": "[encoded data removed]",
      "text/plain": [
       "<Figure size 432x288 with 1 Axes>"
      ]
     },
     "metadata": {},
     "output_type": "display_data"
    }
   ],
   "source": [
    "plt.plot(*xs,'r*')  # nosso dados em vermelho\n",
    "plt.plot(*cs2,'bo')   # esse underline pega o resultado da ultima célula a ser rodada! "
   ]
  },
  {
   "cell_type": "markdown",
   "metadata": {},
   "source": [
    "# Polynomial Kernel"
   ]
  },
  {
   "cell_type": "code",
   "execution_count": 34,
   "metadata": {},
   "outputs": [],
   "source": [
    "x = np.array([3,1.1])\n",
    "y = np.array([1,1])\n",
    "z = np.array([1.1,1.1])"
   ]
  },
  {
   "cell_type": "code",
   "execution_count": 35,
   "metadata": {},
   "outputs": [],
   "source": [
    "def polynomial(x, y, constant=3, degree=2):\n",
    "    return np.linalg.norm((constant + np.dot(x,y))**degree)"
   ]
  },
  {
   "cell_type": "code",
   "execution_count": 36,
   "metadata": {},
   "outputs": [
    {
     "data": {
      "text/plain": [
       "(50.41, 56.40010000000001, 27.040000000000003)"
      ]
     },
     "execution_count": 36,
     "metadata": {},
     "output_type": "execute_result"
    }
   ],
   "source": [
    "polynomial(x,y), polynomial(x,z), polynomial(y,z)"
   ]
  },
  {
   "cell_type": "code",
   "execution_count": 37,
   "metadata": {},
   "outputs": [],
   "source": [
    "def update_classes(xs,cs,classes):\n",
    "    ' dado novos centroides, recalcula as classes de cada centroide'\n",
    "    \n",
    "    for idx,p in enumerate(xs.T):    \n",
    "            d = np.argmin([polynomial(c,p) for c in cs.T]) # é isso aqui!\n",
    "            classes[d][idx] = 1\n",
    "    \n",
    "    return classes"
   ]
  },
  {
   "cell_type": "code",
   "execution_count": 38,
   "metadata": {},
   "outputs": [],
   "source": [
    "def update_centroids(X,cs,classes,K):\n",
    "    ' dado as novas classes, recalcula os novos centroides '\n",
    "    \n",
    "    new_cs = cs \n",
    "    \n",
    "    for i in range(K):\n",
    "            for d in range(dim):\n",
    "                if sum(classes[i]) > 0:\n",
    "                    new_cs[d][i] += X[d]@classes[i]/sum(classes[i])   # queremos mudar isso aqui\n",
    "                else:\n",
    "                    new_cs[d][i] += X[d]@classes[i]/sum(classes[i])\n",
    "                    \n",
    "    \n",
    "    return new_cs"
   ]
  },
  {
   "cell_type": "code",
   "execution_count": 39,
   "metadata": {},
   "outputs": [],
   "source": [
    "def Kmeans(X, K, tol):\n",
    "    \n",
    "    \n",
    "    N      = len(X[0])\n",
    "    dim    = len(X)\n",
    "        \n",
    "    cs     = np.random.rand(dim,K)*np.max(X)  \n",
    "\n",
    "    c_diff = tol + 1                 \n",
    "\n",
    "    while np.linalg.norm(c_diff) > tol: \n",
    "\n",
    "        classes = update_classes(X,cs,np.zeros(shape=(K,N)))\n",
    "\n",
    "        new_cs  = update_centroids(X,np.zeros(shape=(dim,K)),classes,K)\n",
    "\n",
    "        c_diff  = new_cs - cs\n",
    "        cs      = new_cs          \n",
    "    \n",
    "    return cs, classes"
   ]
  },
  {
   "cell_type": "code",
   "execution_count": 40,
   "metadata": {},
   "outputs": [
    {
     "name": "stderr",
     "output_type": "stream",
     "text": [
      "C:\\Users\\bruno\\Anaconda3\\lib\\site-packages\\ipykernel_launcher.py:11: RuntimeWarning: invalid value encountered in double_scalars\n",
      "  # This is added back by InteractiveShellApp.init_path()\n"
     ]
    }
   ],
   "source": [
    "cs3, classes3 = Kmeans(xs,3,0.01)"
   ]
  },
  {
   "cell_type": "code",
   "execution_count": 41,
   "metadata": {},
   "outputs": [
    {
     "data": {
      "text/plain": [
       "[<matplotlib.lines.Line2D at 0x1ee17929a20>]"
      ]
     },
     "execution_count": 41,
     "metadata": {},
     "output_type": "execute_result"
    },
    {
     "data": {
      "image/png": "[encoded data removed]",
      "text/plain": [
       "<Figure size 432x288 with 1 Axes>"
      ]
     },
     "metadata": {},
     "output_type": "display_data"
    }
   ],
   "source": [
    "plt.plot(*xs,'r*')  # nosso dados em vermelho\n",
    "plt.plot(*cs3,'bo')   # esse underline pega o resultado da ultima célula a ser rodada! "
   ]
  },
  {
   "cell_type": "markdown",
   "metadata": {},
   "source": [
    "# Mais visualizações"
   ]
  },
  {
   "cell_type": "code",
   "execution_count": 42,
   "metadata": {},
   "outputs": [],
   "source": [
    "def visualize(X,classes):\n",
    "    for idx,k in enumerate(classes[0]):\n",
    "        if k:\n",
    "            plt.plot(*X.T[idx],'bo')\n",
    "    for idx,k in enumerate(classes[1]):\n",
    "        if k:\n",
    "            plt.plot(*X.T[idx],'ro')\n",
    "    for idx,k in enumerate(classes[2]):\n",
    "        if k:\n",
    "            plt.plot(*X.T[idx],'go')"
   ]
  },
  {
   "cell_type": "code",
   "execution_count": 43,
   "metadata": {},
   "outputs": [
    {
     "data": {
      "image/png": "[encoded data removed]",
      "text/plain": [
       "<Figure size 432x288 with 1 Axes>"
      ]
     },
     "metadata": {},
     "output_type": "display_data"
    }
   ],
   "source": [
    "plt.plot(*cs1,'ys',markersize=9)\n",
    "visualize(xs,classes1)"
   ]
  },
  {
   "cell_type": "code",
   "execution_count": 44,
   "metadata": {},
   "outputs": [
    {
     "data": {
      "image/png": "[encoded data removed]",
      "text/plain": [
       "<Figure size 432x288 with 1 Axes>"
      ]
     },
     "metadata": {},
     "output_type": "display_data"
    }
   ],
   "source": [
    "plt.plot(*cs2,'ys',markersize=9)\n",
    "visualize(xs,classes2)"
   ]
  },
  {
   "cell_type": "code",
   "execution_count": 45,
   "metadata": {},
   "outputs": [
    {
     "data": {
      "image/png": "[encoded data removed]",
      "text/plain": [
       "<Figure size 432x288 with 1 Axes>"
      ]
     },
     "metadata": {},
     "output_type": "display_data"
    }
   ],
   "source": [
    "plt.plot(*cs3,'ys',markersize=9)\n",
    "visualize(xs,classes3)"
   ]
  },
  {
   "cell_type": "markdown",
   "metadata": {},
   "source": [
    "# Alguns Datasets mais emocionantes"
   ]
  },
  {
   "cell_type": "code",
   "execution_count": 46,
   "metadata": {},
   "outputs": [],
   "source": [
    "def make_hello(N=1000, rseed=42):\n",
    "    # Make a plot with \"HELLO\" text; save as PNG\n",
    "    fig, ax = plt.subplots(figsize=(4, 1))\n",
    "    fig.subplots_adjust(left=0, right=1, bottom=0, top=1)\n",
    "    ax.axis('off')\n",
    "    ax.text(0.5, 0.4, 'F', va='center', ha='center', weight='bold', size=85)\n",
    "    fig.savefig('hello.png')\n",
    "    plt.close(fig)\n",
    "    \n",
    "    # Open this PNG and draw random points from it\n",
    "    from matplotlib.image import imread\n",
    "    data = imread('hello.png')[::-1, :, 0].T\n",
    "    rng = np.random.RandomState(rseed)\n",
    "    X = rng.rand(4 * N, 2)\n",
    "    i, j = (X * data.shape).astype(int).T\n",
    "    mask = (data[i, j] < 1)\n",
    "    X = X[mask]\n",
    "    X[:, 0] *= (data.shape[0] / data.shape[1])\n",
    "    X = X[:N]\n",
    "    return X[np.argsort(X[:, 0])]"
   ]
  },
  {
   "cell_type": "code",
   "execution_count": 1,
   "metadata": {},
   "outputs": [
    {
     "ename": "NameError",
     "evalue": "name 'data' is not defined",
     "output_type": "error",
     "traceback": [
      "\u001b[1;31m---------------------------------------------------------------------------\u001b[0m",
      "\u001b[1;31mNameError\u001b[0m                                 Traceback (most recent call last)",
      "\u001b[1;32m<ipython-input-1-c5d84736ba45>\u001b[0m in \u001b[0;36m<module>\u001b[1;34m()\u001b[0m\n\u001b[1;32m----> 1\u001b[1;33m \u001b[0mdata\u001b[0m\u001b[1;33m\u001b[0m\u001b[0m\n\u001b[0m",
      "\u001b[1;31mNameError\u001b[0m: name 'data' is not defined"
     ]
    }
   ],
   "source": [
    "data"
   ]
  },
  {
   "cell_type": "code",
   "execution_count": 48,
   "metadata": {},
   "outputs": [
    {
     "data": {
      "text/plain": [
       "305"
      ]
     },
     "execution_count": 48,
     "metadata": {},
     "output_type": "execute_result"
    }
   ],
   "source": [
    "len(X.T[0])"
   ]
  },
  {
   "cell_type": "markdown",
   "metadata": {},
   "source": [
    "### Naive"
   ]
  },
  {
   "cell_type": "code",
   "execution_count": 49,
   "metadata": {},
   "outputs": [],
   "source": [
    "css, clss = Naive_Kmeans(X.T, 3, 0.01)"
   ]
  },
  {
   "cell_type": "code",
   "execution_count": 50,
   "metadata": {},
   "outputs": [
    {
     "data": {
      "text/plain": [
       "array([[1.85391099, 2.16375944, 1.82355195],\n",
       "       [0.74438754, 0.65660098, 0.31830042]])"
      ]
     },
     "execution_count": 50,
     "metadata": {},
     "output_type": "execute_result"
    }
   ],
   "source": [
    "css"
   ]
  },
  {
   "cell_type": "code",
   "execution_count": 51,
   "metadata": {},
   "outputs": [
    {
     "data": {
      "image/png": "[encoded data removed]",
      "text/plain": [
       "<Figure size 432x288 with 1 Axes>"
      ]
     },
     "metadata": {},
     "output_type": "display_data"
    }
   ],
   "source": [
    "plt.plot(*css,'ys',markersize=9)\n",
    "plt.xlim([1.5,2.6])\n",
    "visualize(X.T,clss)"
   ]
  },
  {
   "cell_type": "markdown",
   "metadata": {},
   "source": [
    "### Gaussian"
   ]
  },
  {
   "cell_type": "code",
   "execution_count": 52,
   "metadata": {},
   "outputs": [],
   "source": [
    "def update_centroids(X,cs,classes,K):\n",
    "    ' dado as novas classes, recalcula os novos centroides '\n",
    "    \n",
    "    new_cs = cs \n",
    "    \n",
    "    for i in range(K):\n",
    "            for d in range(dim):\n",
    "                if sum(classes[i]) > 0:\n",
    "                    new_cs[d][i] += X[d]@classes[i]/sum(classes[i])   # queremos mudar isso aqui\n",
    "                else:\n",
    "                    new_cs[d][i] += np.random.rand(1)*np.max(X) \n",
    "                    \n",
    "    \n",
    "    return new_cs"
   ]
  },
  {
   "cell_type": "code",
   "execution_count": 53,
   "metadata": {},
   "outputs": [],
   "source": [
    "def update_classes(X,cs,classes):\n",
    "    ' dado novos centroides, recalcula as classes de cada centroide'\n",
    "    \n",
    "    for idx,p in enumerate(X.T):    \n",
    "            d = np.argmin([1 - gaussian(p,c) for c in cs.T]) # é isso aqui!\n",
    "            classes[d][idx] = 1\n",
    "    \n",
    "    return classes"
   ]
  },
  {
   "cell_type": "code",
   "execution_count": 54,
   "metadata": {},
   "outputs": [],
   "source": [
    "css2, clss2 = Kmeans(X.T, 3, 0.01)"
   ]
  },
  {
   "cell_type": "code",
   "execution_count": 55,
   "metadata": {},
   "outputs": [
    {
     "data": {
      "image/png": "[encoded data removed]",
      "text/plain": [
       "<Figure size 432x288 with 1 Axes>"
      ]
     },
     "metadata": {},
     "output_type": "display_data"
    }
   ],
   "source": [
    "plt.plot(*css2,'ys',markersize=9)\n",
    "plt.xlim([1.5,2.6])\n",
    "visualize(X.T,clss2)"
   ]
  },
  {
   "cell_type": "markdown",
   "metadata": {},
   "source": [
    "# Top"
   ]
  },
  {
   "cell_type": "code",
   "execution_count": 56,
   "metadata": {},
   "outputs": [],
   "source": [
    "def make_hello(N=1000, rseed=42):\n",
    "    # Make a plot with \"HELLO\" text; save as PNG\n",
    "    fig, ax = plt.subplots(figsize=(4, 1))\n",
    "    fig.subplots_adjust(left=0, right=1, bottom=0, top=1)\n",
    "    ax.axis('off')\n",
    "    ax.text(0.5, 0.4, '@', va='center', ha='center', weight='bold', size=85)\n",
    "    fig.savefig('hello.png')\n",
    "    plt.close(fig)\n",
    "    \n",
    "    # Open this PNG and draw random points from it\n",
    "    from matplotlib.image import imread\n",
    "    data = imread('hello.png')[::-1, :, 0].T\n",
    "    rng = np.random.RandomState(rseed)\n",
    "    X = rng.rand(4 * N, 2)\n",
    "    i, j = (X * data.shape).astype(int).T\n",
    "    mask = (data[i, j] < 1)\n",
    "    X = X[mask]\n",
    "    X[:, 0] *= (data.shape[0] / data.shape[1])\n",
    "    X = X[:N]\n",
    "    return X[np.argsort(X[:, 0])]"
   ]
  },
  {
   "cell_type": "code",
   "execution_count": 57,
   "metadata": {},
   "outputs": [
    {
     "data": {
      "image/png": "[encoded data removed]",
      "text/plain": [
       "<Figure size 432x288 with 1 Axes>"
      ]
     },
     "metadata": {},
     "output_type": "display_data"
    }
   ],
   "source": [
    "X = make_hello(1000)\n",
    "colorize = dict(c=X[:, 0], cmap=plt.cm.get_cmap('rainbow', 3))\n",
    "plt.scatter(X[:, 0], X[:, 1], **colorize)\n",
    "plt.axis('equal');"
   ]
  },
  {
   "cell_type": "markdown",
   "metadata": {},
   "source": [
    "### Naive"
   ]
  },
  {
   "cell_type": "code",
   "execution_count": 58,
   "metadata": {},
   "outputs": [],
   "source": [
    "css, clss = Naive_Kmeans(X.T, 3, 0.01)"
   ]
  },
  {
   "cell_type": "code",
   "execution_count": 59,
   "metadata": {},
   "outputs": [
    {
     "data": {
      "image/png": "[encoded data removed]",
      "text/plain": [
       "<Figure size 432x288 with 1 Axes>"
      ]
     },
     "metadata": {},
     "output_type": "display_data"
    }
   ],
   "source": [
    "plt.plot(*css,'ys',markersize=9)\n",
    "plt.xlim([1.4,2.6])\n",
    "visualize(X.T,clss)"
   ]
  },
  {
   "cell_type": "markdown",
   "metadata": {},
   "source": [
    "### Gaussian"
   ]
  },
  {
   "cell_type": "code",
   "execution_count": 60,
   "metadata": {},
   "outputs": [],
   "source": [
    "def update_classes(X,cs,classes):\n",
    "    ' dado novos centroides, recalcula as classes de cada centroide'\n",
    "    \n",
    "    for idx,p in enumerate(X.T):    \n",
    "            d = np.argmin([1 - gaussian(p,c,0.95) for c in cs.T]) # é isso aqui!\n",
    "            classes[d][idx] = 1\n",
    "    \n",
    "    return classes"
   ]
  },
  {
   "cell_type": "code",
   "execution_count": 61,
   "metadata": {},
   "outputs": [],
   "source": [
    "css2, clss2 = Kmeans(X.T, 3, 0.001)"
   ]
  },
  {
   "cell_type": "code",
   "execution_count": 62,
   "metadata": {},
   "outputs": [
    {
     "data": {
      "text/plain": [
       "array([[2.29705388, 1.70404944, 1.96970243],\n",
       "       [0.39086266, 0.30219034, 0.73547131]])"
      ]
     },
     "execution_count": 62,
     "metadata": {},
     "output_type": "execute_result"
    }
   ],
   "source": [
    "css2"
   ]
  },
  {
   "cell_type": "code",
   "execution_count": 63,
   "metadata": {},
   "outputs": [
    {
     "data": {
      "image/png": "[encoded data removed]",
      "text/plain": [
       "<Figure size 432x288 with 1 Axes>"
      ]
     },
     "metadata": {},
     "output_type": "display_data"
    }
   ],
   "source": [
    "plt.plot(*css2,'ys',markersize=9)\n",
    "plt.xlim([1.4,2.6])\n",
    "visualize(X.T,clss2)"
   ]
  },
  {
   "cell_type": "markdown",
   "metadata": {},
   "source": [
    "# Um pouquinho de starcraft"
   ]
  },
  {
   "cell_type": "code",
   "execution_count": 4,
   "metadata": {},
   "outputs": [],
   "source": [
    "mps = [[213, 204], [165, 199], [158, 197], [160, 199], [157, 196], [156, 192], [98, 72], [92, 65], [96, 67], [88, 112], [87, 113], [84, 112], [83, 110], [81, 109], [81, 106], [81, 104], [167, 154], [168, 152], [174, 159], [48, 97], [47, 99], [46, 100], [44, 104], [46, 105], [202, 168], [209, 163], [211, 161], [209, 160], [67, 131], [66, 127], [69, 132], [186, 133], [189, 136], [190, 140], [43, 168], [42, 167], [42, 170], [44, 174], [46, 176], [212, 97], [212, 103], [211, 104], [213, 95], [211, 91], [212, 94], [131, 196], [128, 196], [126, 197], [135, 195], [124, 69], [125, 68], [128, 69], [129, 68], [119, 72], [98, 210], [99, 204], [93, 213], [97, 211], [99, 209], [163, 54], [157, 55], [156, 62], [162, 53], [158, 54], [154, 60], [156, 56], [156, 59], [101, 205], [99, 206], [92, 211], [134, 71], [133, 69], [120, 71], [121, 195], [122, 196], [136, 193], [130, 197], [209, 90], [213, 99], [43, 172], [44, 161], [43, 163], [184, 132], [189, 141], [189, 138], [188, 135], [183, 133], [65, 126], [66, 129], [71, 133], [66, 124], [72, 132], [209, 165], [208, 167], [207, 168], [203, 169], [46, 103], [52, 96], [53, 97], [174, 161], [175, 160], [174, 156], [172, 155], [171, 154], [80, 105], [99, 73], [98, 69], [98, 74], [97, 68], [90, 67], [163, 200], [157, 191], [157, 193], [215, 197], [216, 199], [215, 200], [215, 202], [212, 205], [207, 206], [208, 205], [48, 59], [40, 65], [40, 68], [39, 67], [40, 63], [42, 62], [43, 60], [47, 60]]   "
   ]
  },
  {
   "cell_type": "code",
   "execution_count": 5,
   "metadata": {},
   "outputs": [],
   "source": [
    "mps = np.array(mps)"
   ]
  },
  {
   "cell_type": "code",
   "execution_count": 6,
   "metadata": {},
   "outputs": [],
   "source": [
    "xs = mps.T/256"
   ]
  },
  {
   "cell_type": "code",
   "execution_count": 28,
   "metadata": {},
   "outputs": [
    {
     "data": {
      "text/plain": [
       "[<matplotlib.lines.Line2D at 0x1e7425aba08>]"
      ]
     },
     "execution_count": 28,
     "metadata": {},
     "output_type": "execute_result"
    },
    {
     "data": {
      "image/png": "[encoded data removed]",
      "text/plain": [
       "<Figure size 432x288 with 1 Axes>"
      ]
     },
     "metadata": {
      "needs_background": "light"
     },
     "output_type": "display_data"
    }
   ],
   "source": [
    "plt.plot(*xs[::-1],'*')"
   ]
  },
  {
   "cell_type": "code",
   "execution_count": 20,
   "metadata": {},
   "outputs": [],
   "source": [
    "cs1, classes1 = Naive_Kmeans(xs, 16, 0.000001)"
   ]
  },
  {
   "cell_type": "code",
   "execution_count": 21,
   "metadata": {},
   "outputs": [],
   "source": [
    "cry = []\n",
    "for x in xs.T:\n",
    "    if np.sum(x) > 1:\n",
    "        cry += [x]\n",
    "cry = np.array(cry)\n",
    "cry = cry.T"
   ]
  },
  {
   "cell_type": "code",
   "execution_count": 22,
   "metadata": {},
   "outputs": [
    {
     "data": {
      "text/plain": [
       "[<matplotlib.lines.Line2D at 0x1e74239ff88>]"
      ]
     },
     "execution_count": 22,
     "metadata": {},
     "output_type": "execute_result"
    },
    {
     "data": {
      "image/png": "[encoded data removed]",
      "text/plain": [
       "<Figure size 432x288 with 1 Axes>"
      ]
     },
     "metadata": {
      "needs_background": "light"
     },
     "output_type": "display_data"
    }
   ],
   "source": [
    "plt.plot(*xs,'bo')  # nosso dados em vermelho\n",
    "plt.plot(*cs1,'r*')   # esse underline pega o resultado da ultima célula a ser rodada! \n",
    "plt.plot(206/256,197/256, 's')"
   ]
  },
  {
   "cell_type": "code",
   "execution_count": 105,
   "metadata": {},
   "outputs": [
    {
     "data": {
      "text/plain": [
       "[<matplotlib.lines.Line2D at 0x198da8c1b48>]"
      ]
     },
     "execution_count": 105,
     "metadata": {},
     "output_type": "execute_result"
    },
    {
     "data": {
      "image/png": "[encoded data removed]",
      "text/plain": [
       "<Figure size 432x288 with 1 Axes>"
      ]
     },
     "metadata": {
      "needs_background": "light"
     },
     "output_type": "display_data"
    }
   ],
   "source": [
    "plt.plot(*cry,'bo')  # nosso dados em vermelho\n",
    "#plt.plot(*cs1,'r*')   # esse underline pega o resultado da ultima célula a ser rodada! \n",
    "plt.plot(206/256,197/256, 's')"
   ]
  },
  {
   "cell_type": "code",
   "execution_count": 120,
   "metadata": {},
   "outputs": [],
   "source": [
    "cs2, classes2 = Naive_Kmeans(cry, 8, 0.000001)"
   ]
  },
  {
   "cell_type": "code",
   "execution_count": 127,
   "metadata": {},
   "outputs": [
    {
     "name": "stdout",
     "output_type": "stream",
     "text": [
      "0.4617161438131191\n"
     ]
    }
   ],
   "source": [
    "print(np.random.rand())"
   ]
  },
  {
   "cell_type": "code",
   "execution_count": 121,
   "metadata": {},
   "outputs": [
    {
     "data": {
      "text/plain": [
       "[<matplotlib.lines.Line2D at 0x198daaed048>]"
      ]
     },
     "execution_count": 121,
     "metadata": {},
     "output_type": "execute_result"
    },
    {
     "data": {
      "image/png": "[encoded data removed]",
      "text/plain": [
       "<Figure size 432x288 with 1 Axes>"
      ]
     },
     "metadata": {
      "needs_background": "light"
     },
     "output_type": "display_data"
    }
   ],
   "source": [
    "plt.plot(*cry,'bo')  # nosso dados em vermelho\n",
    "plt.plot(*cs2,'r*')   # esse underline pega o resultado da ultima célula a ser rodada! \n",
    "plt.plot(206/256,197/256, 's')"
   ]
  },
  {
   "cell_type": "code",
   "execution_count": 124,
   "metadata": {},
   "outputs": [
    {
     "data": {
      "text/plain": [
       "array([[0.50244141, 0.76416016],\n",
       "       [0.82666016, 0.37744141],\n",
       "       [0.80957031, 0.64501953],\n",
       "       [0.62158203, 0.76513672],\n",
       "       [0.67138672, 0.61083984],\n",
       "       [0.37988281, 0.81494141],\n",
       "       [0.83056641, 0.79003906],\n",
       "       [0.73144531, 0.53125   ]])"
      ]
     },
     "execution_count": 124,
     "metadata": {},
     "output_type": "execute_result"
    }
   ],
   "source": [
    "cs2.T"
   ]
  },
  {
   "cell_type": "code",
   "execution_count": 125,
   "metadata": {},
   "outputs": [
    {
     "data": {
      "text/plain": [
       "(0.8046875, 0.76953125)"
      ]
     },
     "execution_count": 125,
     "metadata": {},
     "output_type": "execute_result"
    }
   ],
   "source": [
    "206/256,197/256"
   ]
  },
  {
   "cell_type": "code",
   "execution_count": null,
   "metadata": {},
   "outputs": [],
   "source": [
    "np.argsort([[]])"
   ]
  },
  {
   "cell_type": "code",
   "execution_count": null,
   "metadata": {},
   "outputs": [],
   "source": []
  },
  {
   "cell_type": "code",
   "execution_count": null,
   "metadata": {},
   "outputs": [],
   "source": []
  },
  {
   "cell_type": "code",
   "execution_count": null,
   "metadata": {},
   "outputs": [],
   "source": []
  },
  {
   "cell_type": "code",
   "execution_count": 130,
   "metadata": {},
   "outputs": [],
   "source": [
    "cc  = [13, 1, 12, 14, 10, 4, 9, 6, 5, 15, 8, 7, 11, 3, 2, 0] \n",
    "xys = [[0.16552734, 0.8390625,  0.18652344, 0.375,      0.73144531, 0.61621094,\n",
    "  0.37988281, 0.26464844, 0.32470703, 0.82666016, 0.56201172 ,0.16943359,    \n",
    "  0.80957031, 0.81640625, 0.67138672, 0.49414062],                         \n",
    " [0.24609375, 0.7828125,  0.39111328, 0.27099609, 0.53125,    0.22119141 ,   \n",
    "  0.81494141, 0.50488281, 0.42529297 ,0.37744141, 0.76464844, 0.65966797,      \n",
    "  0.64501953, 0.80208333, 0.61083984, 0.27197266]]   \n"
   ]
  },
  {
   "cell_type": "code",
   "execution_count": 131,
   "metadata": {},
   "outputs": [],
   "source": [
    "ddw = np.array(xys)"
   ]
  },
  {
   "cell_type": "code",
   "execution_count": 141,
   "metadata": {},
   "outputs": [],
   "source": [
    "x,y = 206/256,197/256"
   ]
  },
  {
   "cell_type": "code",
   "execution_count": 144,
   "metadata": {},
   "outputs": [
    {
     "data": {
      "text/plain": [
       "[<matplotlib.lines.Line2D at 0x198dc1be9c8>]"
      ]
     },
     "execution_count": 144,
     "metadata": {},
     "output_type": "execute_result"
    },
    {
     "data": {
      "image/png": "[encoded data removed]",
      "text/plain": [
       "<Figure size 432x288 with 1 Axes>"
      ]
     },
     "metadata": {
      "needs_background": "light"
     },
     "output_type": "display_data"
    }
   ],
   "source": [
    "plt.plot(x,y,'s')\n",
    "plt.plot(*ddw,'*')"
   ]
  },
  {
   "cell_type": "code",
   "execution_count": 161,
   "metadata": {},
   "outputs": [],
   "source": [
    "Bases_idx = np.argsort(np.array([np.linalg.norm(dd - np.array([x,y])) for dd in ddw.T]))\n"
   ]
  },
  {
   "cell_type": "code",
   "execution_count": 162,
   "metadata": {},
   "outputs": [
    {
     "data": {
      "text/plain": [
       "array([13,  1, 12, 14, 10,  4,  9,  6,  5, 15,  8,  7, 11,  3,  2,  0],\n",
       "      dtype=int64)"
      ]
     },
     "execution_count": 162,
     "metadata": {},
     "output_type": "execute_result"
    }
   ],
   "source": [
    "Bases_idx\n"
   ]
  },
  {
   "cell_type": "code",
   "execution_count": 154,
   "metadata": {},
   "outputs": [
    {
     "data": {
      "text/plain": [
       "array([0.49414062, 0.27197266])"
      ]
     },
     "execution_count": 154,
     "metadata": {},
     "output_type": "execute_result"
    }
   ],
   "source": [
    "ddw.T[-1]"
   ]
  },
  {
   "cell_type": "code",
   "execution_count": 156,
   "metadata": {},
   "outputs": [
    {
     "data": {
      "text/plain": [
       "[<matplotlib.lines.Line2D at 0x198dc289d48>]"
      ]
     },
     "execution_count": 156,
     "metadata": {},
     "output_type": "execute_result"
    },
    {
     "data": {
      "image/png": "[encoded data removed]",
      "text/plain": [
       "<Figure size 432x288 with 1 Axes>"
      ]
     },
     "metadata": {
      "needs_background": "light"
     },
     "output_type": "display_data"
    }
   ],
   "source": [
    "plt.plot(x,y,'s')\n",
    "plt.plot(*ddw,'*')\n",
    "plt.plot(*ddw.T[-1],'bo')"
   ]
  },
  {
   "cell_type": "code",
   "execution_count": 159,
   "metadata": {},
   "outputs": [
    {
     "data": {
      "text/plain": [
       "0.5865184695817537"
      ]
     },
     "execution_count": 159,
     "metadata": {},
     "output_type": "execute_result"
    }
   ],
   "source": [
    "np.linalg.norm(ddw.T[-1] - np.array([x,y]))"
   ]
  },
  {
   "cell_type": "code",
   "execution_count": 173,
   "metadata": {},
   "outputs": [
    {
     "data": {
      "text/plain": [
       "0.036851488797096155"
      ]
     },
     "execution_count": 173,
     "metadata": {},
     "output_type": "execute_result"
    }
   ],
   "source": [
    "np.linalg.norm(ddw.T[1] - np.array([x,y]))"
   ]
  },
  {
   "cell_type": "code",
   "execution_count": null,
   "metadata": {},
   "outputs": [],
   "source": []
  }
 ],
 "metadata": {
  "kernelspec": {
   "display_name": "Python 3",
   "language": "python",
   "name": "python3"
  },
  "language_info": {
   "codemirror_mode": {
    "name": "ipython",
    "version": 3
   },
   "file_extension": ".py",
   "mimetype": "text/x-python",
   "name": "python",
   "nbconvert_exporter": "python",
   "pygments_lexer": "ipython3",
   "version": "3.7.5"
  }
 },
 "nbformat": 4,
 "nbformat_minor": 2
}
