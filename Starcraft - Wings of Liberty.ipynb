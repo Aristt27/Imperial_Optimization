{
 "cells": [
  {
   "cell_type": "code",
   "execution_count": 1,
   "metadata": {},
   "outputs": [],
   "source": [
    "import numpy as np\n",
    "import cvxpy as cvx"
   ]
  },
  {
   "cell_type": "code",
   "execution_count": 2,
   "metadata": {},
   "outputs": [],
   "source": [
    "Stages        = 20\n",
    "initial_state = [1,3,1,0,0]\n",
    "gradient      = [2,2,2,2,2]\n",
    "gold_costs    = [1,1,1,1,1,1]\n",
    "crystal_costs = [1,1,1,1,1,1]"
   ]
  },
  {
   "cell_type": "code",
   "execution_count": 3,
   "metadata": {},
   "outputs": [],
   "source": [
    "initial_gatherers, initial_houses, initial_workers, initial_crystals, initial_gold = initial_state"
   ]
  },
  {
   "cell_type": "code",
   "execution_count": 4,
   "metadata": {},
   "outputs": [],
   "source": [
    "# Resources\n",
    "Crystals   = cvx.Variable(Stages, name = 'Crystals')\n",
    "Gold       = cvx.Variable(Stages, name = 'Gold')\n",
    "\n",
    "Raw_Crystal_production = cvx.Variable(Stages, name = 'Crystal Production')\n",
    "Raw_Gold_production    = cvx.Variable(Stages, name = 'Gold Production')"
   ]
  },
  {
   "cell_type": "code",
   "execution_count": 5,
   "metadata": {},
   "outputs": [],
   "source": [
    "# Peasants\n",
    "Workers    = cvx.Variable(Stages, name = 'Workers')\n",
    "Gatherers  = cvx.Variable(Stages, name = 'Gatherers')"
   ]
  },
  {
   "cell_type": "code",
   "execution_count": 6,
   "metadata": {},
   "outputs": [],
   "source": [
    "# Structures\n",
    "Houses     = cvx.Variable(Stages, name = 'Houses')\n",
    "Barracks   = cvx.Variable(Stages, name = 'Gateways')"
   ]
  },
  {
   "cell_type": "code",
   "execution_count": 7,
   "metadata": {},
   "outputs": [],
   "source": [
    "# Army\n",
    "Army       = cvx.Variable(Stages, name = 'Army')\n",
    "Archers    = cvx.Variable(Stages, name = 'Archers')\n",
    "Knights    = cvx.Variable(Stages, name = 'Knights')"
   ]
  },
  {
   "cell_type": "code",
   "execution_count": 8,
   "metadata": {},
   "outputs": [],
   "source": [
    "A = cvx.Variable(Stages-1) # Archers\n",
    "Au = cvx.Variable(Stages-1) # Gold\n",
    "B = cvx.Variable(Stages-1) # Barracks\n",
    "C = cvx.Variable(Stages-1) # Crystals\n",
    "G = cvx.Variable(Stages-1) # Gatherers\n",
    "H = cvx.Variable(Stages-1) # Houses\n",
    "K = cvx.Variable(Stages-1) # Knights\n",
    "W = cvx.Variable(Stages-1) # Workers"
   ]
  },
  {
   "cell_type": "code",
   "execution_count": 9,
   "metadata": {},
   "outputs": [],
   "source": [
    "army_barracks      = cvx.Parameter()\n",
    "buildings_workers  = cvx.Parameter()\n",
    "peasants_houses    = cvx.Parameter()\n",
    "army_building      = cvx.Parameter()\n",
    "supplies_houses    = cvx.Parameter()\n",
    "resources_gatherer = cvx.Parameter()\n",
    "\n",
    "# Gold\n",
    "custo_gold_archers   = cvx.Parameter()\n",
    "custo_gold_barracks  = cvx.Parameter()\n",
    "custo_gold_gatherers = cvx.Parameter()\n",
    "custo_gold_houses    = cvx.Parameter()\n",
    "custo_gold_knights   = cvx.Parameter()\n",
    "custo_gold_workers   = cvx.Parameter()\n",
    "\n",
    "# Crystals\n",
    "custo_crystal_archers   = cvx.Parameter()\n",
    "custo_crystal_barracks  = cvx.Parameter()\n",
    "custo_crystal_gatherers = cvx.Parameter()\n",
    "custo_crystal_houses    = cvx.Parameter()\n",
    "custo_crystal_knights   = cvx.Parameter()\n",
    "custo_crystal_workers   = cvx.Parameter()"
   ]
  },
  {
   "cell_type": "code",
   "execution_count": 10,
   "metadata": {},
   "outputs": [],
   "source": [
    "army_barracks.value, buildings_workers.value, peasants_houses.value, supplies_houses.value, resources_gatherer.value  = gradient\n",
    "\n",
    "custo_gold_archers.value, custo_gold_barracks.value, custo_gold_gatherers.value, custo_gold_houses.value, custo_gold_knights.value, custo_gold_workers.value = gold_costs\n",
    "\n",
    "custo_crystal_archers.value, custo_crystal_barracks.value, custo_crystal_gatherers.value, custo_crystal_houses.value, custo_crystal_knights.value, custo_crystal_workers.value = crystal_costs"
   ]
  },
  {
   "cell_type": "code",
   "execution_count": 11,
   "metadata": {},
   "outputs": [],
   "source": [
    "Constraints = [Archers[0]   == 0,\n",
    "               Barracks[0]  == 0,\n",
    "               Gatherers[0] == initial_gatherers,\n",
    "               Houses[0]    == initial_houses,\n",
    "               Knights[0]   == 0,\n",
    "               Workers      == initial_workers,\n",
    "               Army[0]      == 0,\n",
    "               Gold[0]      == initial_gold,\n",
    "               Crystals[0]  == initial_crystals,\n",
    "               \n",
    "               \n",
    "               A  >= 0,\n",
    "               B  >= 0,\n",
    "               G  >= 0,\n",
    "               H  >= 0,\n",
    "               K  >= 0,\n",
    "               W  >= 0]\n",
    "\n",
    "for i in range(Stages-1):\n",
    "    \n",
    "    Constraints.append(A[i]   == Archers[i+1]   - Archers[i])\n",
    "    Constraints.append(Au[i]  == Gold[i+1]      - Gold[i])\n",
    "    Constraints.append(B[i]   == Barracks[i+1]  - Barracks[i])\n",
    "    Constraints.append(C[i]   == Crystals[i+1]  - Crystals[i])\n",
    "    Constraints.append(G[i]   == Gatherers[i+1] - Gatherers[i])\n",
    "    Constraints.append(H[i]   == Houses[i+1]    - Houses[i])\n",
    "    Constraints.append(K[i]   == Knights[i+1]   - Knights[i])\n",
    "    Constraints.append(W[i]   == Workers[i+1]   - Workers[i])\n",
    "    \n",
    "    Constraints.append(A[i]  + K[i] <= army_barracks*Barracks[i])\n",
    "    Constraints.append(B[i]  + H[i] <= buildings_workers*Workers[i])\n",
    "    Constraints.append(G[i]  + W[i] <= peasants_houses*Houses[i])\n",
    "    Constraints.append(Raw_Gold_production + 2*Raw_Crystal_production == resources_gatherer*Gatherers[i])\n",
    "\n",
    "    Constraints.append(Army[i+1] == Archers[i+1] + Knights[i+1])\n",
    "    Constraints.append(Army[i+1] \n",
    "                       + Gatherers[i+1] \n",
    "                       + Workers[i+1] <= Houses[i+1]*supplies_houses)\n",
    "\n",
    "    Constraints.append(Au[i] == Raw_Gold_production\n",
    "                       - custo_gold_archers*A[i] \n",
    "                       - custo_gold_barracks*B[i]\n",
    "                       - custo_gold_gatherers*G[i]\n",
    "                       - custo_gold_houses*H[i]\n",
    "                       - custo_gold_knights*K[i]\n",
    "                       - custo_gold_workers*W[i])\n",
    "    \n",
    "    Constraints.append(C[i] == Raw_Crystal_production\n",
    "                       - custo_crystal_archers*A[i] \n",
    "                       - custo_crystal_barracks*B[i]\n",
    "                       - custo_crystal_gatherers*G[i]\n",
    "                       - custo_crystal_houses*H[i]\n",
    "                       - custo_crystal_knights*K[i]\n",
    "                       - custo_crystal_workers*W[i])\n",
    "    \n",
    "    Constraints.append(Gold[i]  >=  custo_gold_archers*A[i] \n",
    "                       + custo_gold_barracks*B[i]\n",
    "                       + custo_gold_gatherers*G[i]\n",
    "                       + custo_gold_houses*H[i]\n",
    "                       + custo_gold_knights*K[i]\n",
    "                       + custo_gold_workers*W[i])\n",
    "    \n",
    "    Constraints.append(Crystals[i]  >=  custo_crystal_archers*A[i] \n",
    "                       + custo_crystal_barracks*B[i]\n",
    "                       + custo_crystal_gatherers*G[i]\n",
    "                       + custo_crystal_houses*H[i]\n",
    "                       + custo_crystal_knights*K[i]\n",
    "                       + custo_crystal_workers*W[i])\n",
    "    Constraints.append(Raw_Gold_production >= 0)\n",
    "    Constraints.append(Raw_Crystal_production >= 0)"
   ]
  },
  {
   "cell_type": "code",
   "execution_count": 12,
   "metadata": {},
   "outputs": [],
   "source": [
    "F_obj = cvx.Maximize(Army[-1])"
   ]
  },
  {
   "cell_type": "code",
   "execution_count": 13,
   "metadata": {},
   "outputs": [],
   "source": [
    "problem = cvx.Problem(F_obj, Constraints)"
   ]
  },
  {
   "cell_type": "code",
   "execution_count": 14,
   "metadata": {},
   "outputs": [
    {
     "name": "stdout",
     "output_type": "stream",
     "text": [
      "Academic license - for non-commercial use only\n",
      "Parameter OutputFlag unchanged\n",
      "   Value: 1  Min: 0  Max: 1  Default: 1\n",
      "Changed value of parameter QCPDual to 1\n",
      "   Prev: 0  Min: 0  Max: 1  Default: 0\n",
      "Optimize a model with 2327 rows, 372 columns and 9148 nonzeros\n",
      "Coefficient statistics:\n",
      "  Matrix range     [1e+00, 2e+00]\n",
      "  Objective range  [1e+00, 1e+00]\n",
      "  Bounds range     [0e+00, 0e+00]\n",
      "  RHS range        [1e+00, 3e+00]\n",
      "Presolve removed 265 rows and 2198 columns\n",
      "Presolve time: 0.02s\n",
      "Presolved: 107 rows, 129 columns, 1099 nonzeros\n",
      "\n",
      "Iteration    Objective       Primal Inf.    Dual Inf.      Time\n",
      "       0   -2.0000000e+00   2.000000e+00   1.700002e+07      0s\n",
      "Extra one simplex iteration after uncrush\n",
      "      51   -9.1538462e+00   0.000000e+00   0.000000e+00      0s\n",
      "\n",
      "Solved in 51 iterations and 0.04 seconds\n",
      "Optimal objective -9.153846154e+00\n"
     ]
    },
    {
     "data": {
      "text/plain": [
       "9.153846153846153"
      ]
     },
     "execution_count": 14,
     "metadata": {},
     "output_type": "execute_result"
    }
   ],
   "source": [
    "problem.solve(solver = 'GUROBI', verbose=True)"
   ]
  },
  {
   "cell_type": "code",
   "execution_count": 15,
   "metadata": {},
   "outputs": [
    {
     "data": {
      "text/plain": [
       "array([1., 1., 1., 1., 1., 1., 1., 1., 1., 1., 1., 1., 1., 1., 1., 1., 1.,\n",
       "       1., 1., 1.])"
      ]
     },
     "execution_count": 15,
     "metadata": {},
     "output_type": "execute_result"
    }
   ],
   "source": [
    "Gatherers.value"
   ]
  },
  {
   "cell_type": "code",
   "execution_count": 16,
   "metadata": {},
   "outputs": [
    {
     "data": {
      "text/plain": [
       "array([3.        , 3.        , 3.3974359 , 3.52564103, 3.65384615,\n",
       "       3.78205128, 3.91025641, 4.03846154, 4.16666667, 4.16666667,\n",
       "       4.16666667, 4.16666667, 4.23076923, 4.23076923, 4.23076923,\n",
       "       5.06410256, 5.19230769, 5.19230769, 5.30769231, 5.57692308])"
      ]
     },
     "execution_count": 16,
     "metadata": {},
     "output_type": "execute_result"
    }
   ],
   "source": [
    "Houses.value"
   ]
  },
  {
   "cell_type": "code",
   "execution_count": 17,
   "metadata": {
    "scrolled": true
   },
   "outputs": [
    {
     "data": {
      "text/plain": [
       "array([0.        , 0.66666667, 0.66666667, 0.66666667, 0.66666667,\n",
       "       0.66666667, 0.66666667, 0.66666667, 0.66666667, 0.79487179,\n",
       "       0.92307692, 1.05128205, 1.11538462, 1.24358974, 1.37179487,\n",
       "       0.66666667, 0.66666667, 0.79487179, 0.80769231, 0.66666667])"
      ]
     },
     "execution_count": 17,
     "metadata": {},
     "output_type": "execute_result"
    }
   ],
   "source": [
    "Gold.value"
   ]
  },
  {
   "cell_type": "code",
   "execution_count": 18,
   "metadata": {},
   "outputs": [
    {
     "data": {
      "text/plain": [
       "array([0.        , 0.66666667, 0.66666667, 0.66666667, 0.66666667,\n",
       "       0.66666667, 0.66666667, 0.66666667, 0.66666667, 0.79487179,\n",
       "       0.92307692, 1.05128205, 1.11538462, 1.24358974, 1.37179487,\n",
       "       0.66666667, 0.66666667, 0.79487179, 0.80769231, 0.66666667])"
      ]
     },
     "execution_count": 18,
     "metadata": {},
     "output_type": "execute_result"
    }
   ],
   "source": [
    "Crystals.value"
   ]
  },
  {
   "cell_type": "code",
   "execution_count": 19,
   "metadata": {},
   "outputs": [
    {
     "data": {
      "text/plain": [
       "array([0.        , 0.        , 0.        , 0.53846154, 1.07692308,\n",
       "       1.61538462, 2.15384615, 2.69230769, 3.23076923, 3.76923077,\n",
       "       4.30769231, 4.84615385, 5.38461538, 5.92307692, 6.46153846,\n",
       "       7.        , 7.53846154, 8.07692308, 8.61538462, 9.15384615])"
      ]
     },
     "execution_count": 19,
     "metadata": {},
     "output_type": "execute_result"
    }
   ],
   "source": [
    "Army.value"
   ]
  },
  {
   "cell_type": "code",
   "execution_count": 20,
   "metadata": {},
   "outputs": [
    {
     "data": {
      "text/plain": [
       "array([1., 1., 1., 1., 1., 1., 1., 1., 1., 1., 1., 1., 1., 1., 1., 1., 1.,\n",
       "       1., 1., 1.])"
      ]
     },
     "execution_count": 20,
     "metadata": {},
     "output_type": "execute_result"
    }
   ],
   "source": [
    "Workers.value"
   ]
  },
  {
   "cell_type": "code",
   "execution_count": 21,
   "metadata": {},
   "outputs": [
    {
     "data": {
      "text/plain": [
       "11.153846153846153"
      ]
     },
     "execution_count": 21,
     "metadata": {},
     "output_type": "execute_result"
    }
   ],
   "source": [
    "Houses.value[-1]*2"
   ]
  },
  {
   "cell_type": "code",
   "execution_count": 22,
   "metadata": {},
   "outputs": [
    {
     "data": {
      "text/plain": [
       "array([0.        , 0.        , 0.        , 0.        , 0.        ,\n",
       "       0.53846154, 1.07692308, 1.61538462, 1.61538462, 1.61538462,\n",
       "       1.61538462, 1.61538462, 1.61538462, 2.15384615, 2.15384615,\n",
       "       2.15384615, 2.69230769, 3.23076923, 3.76923077, 3.76923077])"
      ]
     },
     "execution_count": 22,
     "metadata": {},
     "output_type": "execute_result"
    }
   ],
   "source": [
    "Knights.value"
   ]
  },
  {
   "cell_type": "code",
   "execution_count": 23,
   "metadata": {},
   "outputs": [
    {
     "data": {
      "text/plain": [
       "array([0.        , 0.        , 0.        , 0.53846154, 1.07692308,\n",
       "       1.07692308, 1.07692308, 1.07692308, 1.61538462, 2.15384615,\n",
       "       2.69230769, 3.23076923, 3.76923077, 3.76923077, 4.30769231,\n",
       "       4.84615385, 4.84615385, 4.84615385, 4.84615385, 5.38461538])"
      ]
     },
     "execution_count": 23,
     "metadata": {},
     "output_type": "execute_result"
    }
   ],
   "source": [
    "Archers.value"
   ]
  }
 ],
 "metadata": {
  "kernelspec": {
   "display_name": "Python 3",
   "language": "python",
   "name": "python3"
  },
  "language_info": {
   "codemirror_mode": {
    "name": "ipython",
    "version": 3
   },
   "file_extension": ".py",
   "mimetype": "text/x-python",
   "name": "python",
   "nbconvert_exporter": "python",
   "pygments_lexer": "ipython3",
   "version": "3.6.9"
  }
 },
 "nbformat": 4,
 "nbformat_minor": 2
}
