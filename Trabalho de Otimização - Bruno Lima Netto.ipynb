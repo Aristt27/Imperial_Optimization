{
 "cells": [
  {
   "cell_type": "code",
   "execution_count": 1,
   "metadata": {},
   "outputs": [],
   "source": [
    "import numpy as np"
   ]
  },
  {
   "cell_type": "markdown",
   "metadata": {},
   "source": [
    "\n",
    "# This is now Starcraft 0"
   ]
  },
  {
   "cell_type": "markdown",
   "metadata": {},
   "source": [
    "We're in in the world of Braxis, home of the Protoss Empire. Full of resources (Mineral and Gas). With $w_0$ starting workers and a single mineral deposit. We've enjoyed peace time for as long as we've been us. But not for much longer. The dominion forces announced an incoming attack in 10 minutes. But they are so dumb that they told us their army composition. We finally will have to work our asses off and build the biggest army of the firstborn's history capable of countering theirs."
   ]
  },
  {
   "cell_type": "markdown",
   "metadata": {},
   "source": [
    "###### Hey you. You're finally awake..."
   ]
  },
  {
   "cell_type": "markdown",
   "metadata": {},
   "source": [
    "You must help us instruct our $w_0$ starting units to gather resources to build the strongest army against theirs that is possible in 10 minutes.\n",
    "\n",
    "The game works like this:"
   ]
  },
  {
   "cell_type": "markdown",
   "metadata": {},
   "source": [
    "#### You're able to command the workers in real time"
   ]
  },
  {
   "cell_type": "markdown",
   "metadata": {},
   "source": [
    "The workers have 4 actions:\n",
    "\n",
    "- Do nothing\n",
    "\n",
    "- Gather resources\n",
    "- Return resources (1 second)\n",
    "- Build structures"
   ]
  },
  {
   "cell_type": "markdown",
   "metadata": {},
   "source": [
    "There are only 2 resources in the world of Braxis: Mineral (Blue crystals) and Gas (Green gas). \n",
    "\n",
    "you start with 100 minerals and 0 gas\n",
    "\n",
    "It takes 1 second to gather 5 minerals per worker   \n",
    "It takes 2 seconds to gather 5 gas"
   ]
  },
  {
   "cell_type": "code",
   "execution_count": 2,
   "metadata": {},
   "outputs": [],
   "source": [
    "Starting_minerals = 100\n",
    "Starting_gas      = 0"
   ]
  },
  {
   "cell_type": "markdown",
   "metadata": {},
   "source": [
    "Their distribuition is given by the following:\n",
    "\n",
    "There are 3 minerals spots with 1000 capacity each;\n",
    "There are 2 gas geysers with 500 capacity each;"
   ]
  },
  {
   "cell_type": "code",
   "execution_count": 3,
   "metadata": {},
   "outputs": [],
   "source": [
    "Starting_available_minerals    = np.array([1000,1000,1000])\n",
    "Starting_available_gas_geysers = np.array([500,500])"
   ]
  },
  {
   "cell_type": "markdown",
   "metadata": {},
   "source": [
    "There are only 3 kinds of structures in the game:\n",
    "\n",
    "- Resource Deposits - Costs 100 minerals (gives 30 supply, holds 200 minerals and 200 gas)\n",
    "- Barracks - costs 200 minerals            \n",
    "- Nexus    - costs 1000 minerals (gives 10 supply, holds 100 minerals)"
   ]
  },
  {
   "cell_type": "markdown",
   "metadata": {},
   "source": [
    "The game starts with 1 nexus, 0 barracks, and  0 RDs"
   ]
  },
  {
   "cell_type": "markdown",
   "metadata": {},
   "source": [
    "RDs allows you to build more units and store more resources"
   ]
  },
  {
   "cell_type": "markdown",
   "metadata": {},
   "source": [
    "Barracks are your army builder, they can train:\n",
    " - Zealots  - costs 150 minerals, 2 supply\n",
    " - Stalkers - costs 150 minerals, 50 gas, 3 supply"
   ]
  },
  {
   "cell_type": "code",
   "execution_count": 4,
   "metadata": {},
   "outputs": [],
   "source": [
    "army_weight = np.array([2,3])"
   ]
  },
  {
   "cell_type": "markdown",
   "metadata": {},
   "source": [
    "Nexi allows you to train workers (50 minerals and 1 supply)"
   ]
  },
  {
   "cell_type": "markdown",
   "metadata": {},
   "source": [
    "We'll define for each worker one possible state, that will define its actions:\n",
    " - 0 = nothing\n",
    " - 1x = gathering (11 minerals, 12 gas)\n",
    " - 2x = building  (21 RDs, 22 Barrakcs, 23 Nexus)"
   ]
  },
  {
   "cell_type": "markdown",
   "metadata": {},
   "source": [
    "Therefore, we have at the starting point of our empire with a single nexus and worker:\n"
   ]
  },
  {
   "cell_type": "code",
   "execution_count": 5,
   "metadata": {},
   "outputs": [],
   "source": [
    "# Time will be measured in seconds\n",
    "time     = 0        \n",
    "time_lim = 600"
   ]
  },
  {
   "cell_type": "markdown",
   "metadata": {},
   "source": [
    "# Starting Protoss Empire (time = 0)"
   ]
  },
  {
   "cell_type": "code",
   "execution_count": 6,
   "metadata": {},
   "outputs": [],
   "source": [
    "# Structures\n",
    "nexus    = 1\n",
    "barracks = 0\n",
    "RDs      = 0\n",
    "structures = np.array([nexus, barracks, RDs])"
   ]
  },
  {
   "cell_type": "code",
   "execution_count": 7,
   "metadata": {},
   "outputs": [],
   "source": [
    "# Units\n",
    "workers        = np.array([11])\n",
    "army_comp      = np.array([0,0])\n",
    "\n",
    "units   = [workers, army_comp]\n"
   ]
  },
  {
   "cell_type": "code",
   "execution_count": 8,
   "metadata": {},
   "outputs": [],
   "source": [
    "# Resources\n",
    "\n",
    "\n",
    "army_weight = np.array([2,3])\n",
    "\n",
    "def total_supply(units, weight):\n",
    "    workers, army_comp = units\n",
    "    return len(workers) + army_comp@weight\n",
    "\n",
    "def maximum_supply(structures):\n",
    "    return np.array([10,0,30])@structures\n",
    "\n",
    "available_minerals = Starting_available_minerals\n",
    "available_gas      = Starting_available_gas_geysers\n",
    "current_minerals   = Starting_minerals\n",
    "current_gas        = Starting_gas\n",
    "\n",
    "resources = [current_minerals, available_minerals, current_gas, available_gas]"
   ]
  },
  {
   "cell_type": "code",
   "execution_count": 9,
   "metadata": {},
   "outputs": [],
   "source": [
    "# Production\n",
    "nexi_production     = []  # booleans\n",
    "barracks_production = []  # tuple of booleans  -> (0,x) = nothing; (1,0) -> zealot; (1,1) -> stalker"
   ]
  },
  {
   "cell_type": "markdown",
   "metadata": {},
   "source": [
    "#### Right now, we have the following optimization problem:\n",
    "\n",
    "$$ \\max \\sum \\mathbb{E}[\\Phi (army(t)[i])| Enemy]$$\n",
    "$$ \\text{ s.t.  } t \\leq 600 $$ \n"
   ]
  },
  {
   "cell_type": "code",
   "execution_count": 10,
   "metadata": {},
   "outputs": [],
   "source": [
    "## Phi é uma média ou probabilidade do exército vencer o exército inimigo"
   ]
  },
  {
   "cell_type": "markdown",
   "metadata": {},
   "source": [
    "###### We can view it as a multi-stage optimization problem (with 600 stages), where whenever we start producing a unit in any structure, it  gets 'deactivated' for a certain period and then comes back with a new unit "
   ]
  },
  {
   "cell_type": "markdown",
   "metadata": {},
   "source": [
    "Now, the hardest part of the game: The Production.\n",
    "Or, in other words, WHAT DO I DO WITH MY MONEY"
   ]
  },
  {
   "cell_type": "markdown",
   "metadata": {},
   "source": [
    "1. We can only produce a unit if we have its required structure\n",
    "\n",
    "2. We can only be producing a single unit per structure \n",
    "\n",
    "3. I think thats all"
   ]
  },
  {
   "cell_type": "markdown",
   "metadata": {},
   "source": [
    "It takes 5 seconds to build a worker  \n",
    "10 seconds to build a zealot  \n",
    "12 seconds to build a stalker"
   ]
  },
  {
   "cell_type": "markdown",
   "metadata": {},
   "source": [
    "# MAS ANTES DISSO TUDO AI BORA SIMPLIFICAR UM POUCO \n",
    "\n",
    "## TEM ESSA DE RD NÃO\n",
    "## SÓ TEM 1 TIPO DE MINERIO\n",
    "## SÓ TEM 1 UNIDADE DA BARRACA\n",
    "#### Time_lim = 20 segundos"
   ]
  },
  {
   "cell_type": "code",
   "execution_count": 11,
   "metadata": {},
   "outputs": [],
   "source": [
    "# Stages will be measured in turns\n",
    "turn     = 0        \n",
    "max_turn = 20"
   ]
  },
  {
   "cell_type": "code",
   "execution_count": 12,
   "metadata": {},
   "outputs": [],
   "source": [
    "# Structures\n",
    "\n",
    "nexus    = 1\n",
    "barracks = 0\n",
    "\n",
    "structures = np.array([nexus, barracks])"
   ]
  },
  {
   "cell_type": "code",
   "execution_count": 13,
   "metadata": {},
   "outputs": [],
   "source": [
    "# Units\n",
    "workers        = [[11,2]]\n",
    "army_comp      = np.array([0])\n",
    "units          = [workers, army_comp]"
   ]
  },
  {
   "cell_type": "code",
   "execution_count": 14,
   "metadata": {},
   "outputs": [],
   "source": [
    "# Resources\n",
    "\n",
    "\n",
    "army_weight = np.array([2])\n",
    "\n",
    "def total_supply(units, weight):\n",
    "    workers, army_comp = units\n",
    "    return len(workers) + army_comp@weight\n",
    "\n",
    "def maximum_supply(structures):\n",
    "    return np.array([10,0])@structures\n",
    "\n",
    "Starting_available_minerals = 250\n",
    "#Starting_available_gas_geysers = 0\n",
    "Starting_minerals = 50\n",
    "#Starting_gas = 0\n",
    "\n",
    "available_minerals = Starting_available_minerals\n",
    "#available_gas      = Starting_available_gas_geysers\n",
    "current_minerals   = Starting_minerals\n",
    "#current_gas        = Starting_gas\n",
    "\n",
    "resources = [current_minerals, available_minerals]"
   ]
  },
  {
   "cell_type": "code",
   "execution_count": 15,
   "metadata": {},
   "outputs": [],
   "source": [
    "# Production\n",
    "nexi_production     = []  # tuple of boolean + int -> (0,0), (1,t)\n",
    "barracks_production = []  # tuple of tuple of booleans + int  -> (0,x),0 = nothing; (1,0),t -> zealot; (1,1),t -> stalker\n",
    "production = [nexi_production,barracks_production]"
   ]
  },
  {
   "cell_type": "code",
   "execution_count": 16,
   "metadata": {},
   "outputs": [],
   "source": [
    "def resources_tick(resources, units, structures, production):\n",
    "    \n",
    "    workers, army = units\n",
    "    c_m, a_m      = resources\n",
    "    new_workers   = []\n",
    "    n_p, b_p      = production\n",
    "    \n",
    "    for probe in workers:\n",
    "        action, time = probe\n",
    "        if action:\n",
    "            time -= 1\n",
    "            if time == 0:\n",
    "                if action == 11: # returned minerals\n",
    "                    c_m, a_m = c_m +5, a_m-5\n",
    "                    print(\" You gathered 5 minerals!\")\n",
    "                    if a_m == 0:\n",
    "                        new_workers.append([0,0])\n",
    "                    else: \n",
    "                        new_workers.append([11,2])\n",
    "                if action == 22: # built barrakcs\n",
    "                    print(\" You just build a new barrack!\")\n",
    "                    structures += np.array(0,1)\n",
    "                    new_workers.append([0,0])\n",
    "                    n_p.append([0,0])\n",
    "                if action == 23: # built nexus\n",
    "                    print(\"You just build a new nexus!!\")\n",
    "                    structures += np.array(1,0)\n",
    "                    new_workers.append([0,0])\n",
    "                    b_p.append([[0,0],0])\n",
    "            else:\n",
    "                new_workers.append([action,time])\n",
    "        else:\n",
    "            new_workers.append([0,0])\n",
    "    \n",
    "    new_resorces = [c_m, a_m]\n",
    "    new_units    = [new_workers, army]\n",
    "    \n",
    "    return new_resorces, new_units, structures, production      "
   ]
  },
  {
   "cell_type": "code",
   "execution_count": 17,
   "metadata": {},
   "outputs": [],
   "source": [
    "def production_tick(production, units):\n",
    "    \n",
    "    n_p, b_p    = production\n",
    "    wrkrs, army = units\n",
    "    new_production = [[],[]]\n",
    "    for n in n_p:\n",
    "        if n[0]:\n",
    "            t1 = n[1]\n",
    "            t1 -= 1\n",
    "            if t1 == 0:\n",
    "                print(\" You just trained a new probe! \")\n",
    "                wrkrs += [11]\n",
    "                new_production[0].apppend([0,0])\n",
    "            else:\n",
    "                new_production[0].append([1,t1])\n",
    "        else:\n",
    "            new_production[0].append([0,0])\n",
    "            \n",
    "    for b in b_p:\n",
    "        u,t2 = b\n",
    "        if u[0]:\n",
    "            t2 -= 1\n",
    "            if t2 == 0:\n",
    "                #if u[1] == 0:\n",
    "                print(\"You just trained a zealot!\")\n",
    "                army[0] += 1\n",
    "                new_production[1].append([[0,0],0])\n",
    "#                 else:\n",
    "#                     print(\"You just trained a stalker!\")\n",
    "#                     army[1] += 1\n",
    "\n",
    "            else:\n",
    "                new_production[1].append([u,t2])\n",
    "        else:\n",
    "            new_production[1].append([[0,0],0])\n",
    "            \n",
    "    new_units = [wrkrs, np.array(army)]\n",
    "    \n",
    "    return new_production, new_units"
   ]
  },
  {
   "cell_type": "code",
   "execution_count": 18,
   "metadata": {},
   "outputs": [],
   "source": [
    "def give_new_instructions(instructions, units, resources, production, current_supply, max_supply):\n",
    "    workers, army = units\n",
    "    c_m, a_m      = resources\n",
    "    n_p, b_p      = production\n",
    "    \n",
    "    for probe in workers:\n",
    "        if probe[0] == 0:\n",
    "            pass\n",
    "    return None"
   ]
  },
  {
   "cell_type": "markdown",
   "metadata": {},
   "source": [
    "# Aqui temos uma pequena simulação :)"
   ]
  },
  {
   "cell_type": "code",
   "execution_count": 19,
   "metadata": {
    "scrolled": false
   },
   "outputs": [
    {
     "name": "stdout",
     "output_type": "stream",
     "text": [
      " You gathered 5 minerals!\n",
      " You gathered 5 minerals!\n",
      " You gathered 5 minerals!\n",
      " You gathered 5 minerals!\n",
      " You gathered 5 minerals!\n",
      " You gathered 5 minerals!\n",
      " You gathered 5 minerals!\n",
      " You gathered 5 minerals!\n",
      " You gathered 5 minerals!\n",
      " You gathered 5 minerals!\n"
     ]
    }
   ],
   "source": [
    "while turn <= max_turn:\n",
    "    \n",
    "    turn += 1\n",
    "    \n",
    "    resources, units, structures, production    = resources_tick(resources, units, structures, production)   # workers tick\n",
    "    production, units               = production_tick(production,units) # buildings tick\n",
    "    current_supply, max_supply      = total_supply(units, army_weight), maximum_supply(structures)\n",
    "    "
   ]
  },
  {
   "cell_type": "code",
   "execution_count": 20,
   "metadata": {},
   "outputs": [
    {
     "data": {
      "text/plain": [
       "([100, 200], [[[11, 1]], array([0])], array([1, 0]), [[], []])"
      ]
     },
     "execution_count": 20,
     "metadata": {},
     "output_type": "execute_result"
    }
   ],
   "source": [
    "resources, units, structures, production"
   ]
  },
  {
   "cell_type": "markdown",
   "metadata": {},
   "source": [
    "# Agora vamos fazer coisas muito punk:\n",
    "\n",
    "- Uma relaxação contínua do problema ver no que dá\n",
    "- Definir um jeito de transformar instruções em numeros e resolver com genético\n",
    "\n",
    "## Depois eu complicarei o problema colocando estocasticiade (ataques bárbaros aleatórios/ tempo de vida das unidades ou coisas assim)\n",
    "\n",
    "#### ver no que dá"
   ]
  }
 ],
 "metadata": {
  "kernelspec": {
   "display_name": "Python 3",
   "language": "python",
   "name": "python3"
  },
  "language_info": {
   "codemirror_mode": {
    "name": "ipython",
    "version": 3
   },
   "file_extension": ".py",
   "mimetype": "text/x-python",
   "name": "python",
   "nbconvert_exporter": "python",
   "pygments_lexer": "ipython3",
   "version": "3.7.5"
  }
 },
 "nbformat": 4,
 "nbformat_minor": 2
}
